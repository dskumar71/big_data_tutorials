{
 "cells": [
  {
   "cell_type": "code",
   "execution_count": 2,
   "metadata": {},
   "outputs": [
    {
     "data": {
      "text/plain": [
       "import org.apache.spark.sql.SparkSession\n"
      ]
     },
     "execution_count": 2,
     "metadata": {},
     "output_type": "execute_result"
    }
   ],
   "source": [
    "import org.apache.spark.sql.SparkSession\n"
   ]
  },
  {
   "cell_type": "code",
   "execution_count": 3,
   "metadata": {},
   "outputs": [
    {
     "data": {
      "text/plain": [
       "spark: org.apache.spark.sql.SparkSession = org.apache.spark.sql.SparkSession@a8f6d51\n",
       "import spark.implicits._\n"
      ]
     },
     "execution_count": 3,
     "metadata": {},
     "output_type": "execute_result"
    }
   ],
   "source": [
    "val spark = SparkSession.builder().getOrCreate()\n",
    "\n",
    "// For implicit conversions like converting RDDs to DataFrames\n",
    "import spark.implicits._"
   ]
  },
  {
   "cell_type": "markdown",
   "metadata": {},
   "source": [
    "# reading the csv file"
   ]
  },
  {
   "cell_type": "code",
   "execution_count": 4,
   "metadata": {},
   "outputs": [
    {
     "data": {
      "text/plain": [
       "df: org.apache.spark.sql.DataFrame = [Date: timestamp, Location: string ... 22 more fields]\n"
      ]
     },
     "execution_count": 4,
     "metadata": {},
     "output_type": "execute_result"
    }
   ],
   "source": [
    "val df = spark.read.option(\"header\",\"true\").option(\"inferschema\",\"true\")csv(\"weatherAUS.csv\")"
   ]
  },
  {
   "cell_type": "code",
   "execution_count": 5,
   "metadata": {},
   "outputs": [
    {
     "data": {
      "text/plain": [
       "res0: Array[org.apache.spark.sql.Row] = Array([2008-12-01 00:00:00.0,Albury,13.4,22.9,0.6,NA,NA,W,44,W,WNW,20,24,71,22,1007.7,1007.1,8,NA,16.9,21.8,No,0.0,No], [2008-12-02 00:00:00.0,Albury,7.4,25.1,0,NA,NA,WNW,44,NNW,WSW,4,22,44,25,1010.6,1007.8,NA,NA,17.2,24.3,No,0.0,No], [2008-12-03 00:00:00.0,Albury,12.9,25.7,0,NA,NA,WSW,46,W,WSW,19,26,38,30,1007.6,1008.7,NA,2,21,23.2,No,0.0,No], [2008-12-04 00:00:00.0,Albury,9.2,28,0,NA,NA,NE,24,SE,E,11,9,45,16,1017.6,1012.8,NA,NA,18.1,26.5,No,1.0,No], [2008-12-05 00:00:00.0,Albury,17.5,32.3,1,NA,NA,W,41,ENE,NW,7,20,82,33,1010.8,1006,7,8,17.8,29.7,No,0.2,No])\n"
      ]
     },
     "execution_count": 5,
     "metadata": {},
     "output_type": "execute_result"
    }
   ],
   "source": [
    "df.head(5)"
   ]
  },
  {
   "cell_type": "code",
   "execution_count": 6,
   "metadata": {},
   "outputs": [
    {
     "name": "stdout",
     "output_type": "stream",
     "text": [
      "[2008-12-01 00:00:00.0,Albury,13.4,22.9,0.6,NA,NA,W,44,W,WNW,20,24,71,22,1007.7,1007.1,8,NA,16.9,21.8,No,0.0,No]\n",
      "[2008-12-02 00:00:00.0,Albury,7.4,25.1,0,NA,NA,WNW,44,NNW,WSW,4,22,44,25,1010.6,1007.8,NA,NA,17.2,24.3,No,0.0,No]\n",
      "[2008-12-03 00:00:00.0,Albury,12.9,25.7,0,NA,NA,WSW,46,W,WSW,19,26,38,30,1007.6,1008.7,NA,2,21,23.2,No,0.0,No]\n",
      "[2008-12-04 00:00:00.0,Albury,9.2,28,0,NA,NA,NE,24,SE,E,11,9,45,16,1017.6,1012.8,NA,NA,18.1,26.5,No,1.0,No]\n",
      "[2008-12-05 00:00:00.0,Albury,17.5,32.3,1,NA,NA,W,41,ENE,NW,7,20,82,33,1010.8,1006,7,8,17.8,29.7,No,0.2,No]\n"
     ]
    }
   ],
   "source": [
    "for (row <- df.head(5)) \n",
    "{println(row)}"
   ]
  },
  {
   "cell_type": "code",
   "execution_count": 7,
   "metadata": {},
   "outputs": [
    {
     "data": {
      "text/plain": [
       "res2: Array[String] = Array(Date, Location, MinTemp, MaxTemp, Rainfall, Evaporation, Sunshine, WindGustDir, WindGustSpeed, WindDir9am, WindDir3pm, WindSpeed9am, WindSpeed3pm, Humidity9am, Humidity3pm, Pressure9am, Pressure3pm, Cloud9am, Cloud3pm, Temp9am, Temp3pm, RainToday, RISK_MM, RainTomorrow)\n"
      ]
     },
     "execution_count": 7,
     "metadata": {},
     "output_type": "execute_result"
    }
   ],
   "source": [
    "df.columns"
   ]
  },
  {
   "cell_type": "code",
   "execution_count": 8,
   "metadata": {},
   "outputs": [
    {
     "name": "stdout",
     "output_type": "stream",
     "text": [
      "+-------+------------------+\n",
      "|summary|           MinTemp|\n",
      "+-------+------------------+\n",
      "|  count|            142193|\n",
      "|   mean|12.186399728729098|\n",
      "| stddev| 6.403282674671314|\n",
      "|    min|              -0.1|\n",
      "|    max|                NA|\n",
      "+-------+------------------+\n",
      "\n"
     ]
    }
   ],
   "source": [
    "df.select(\"MinTemp\").describe().show()"
   ]
  },
  {
   "cell_type": "code",
   "execution_count": null,
   "metadata": {},
   "outputs": [],
   "source": []
  },
  {
   "cell_type": "code",
   "execution_count": 9,
   "metadata": {},
   "outputs": [
    {
     "name": "stdout",
     "output_type": "stream",
     "text": [
      "root\n",
      " |-- Date: timestamp (nullable = true)\n",
      " |-- Location: string (nullable = true)\n",
      " |-- MinTemp: string (nullable = true)\n",
      " |-- MaxTemp: string (nullable = true)\n",
      " |-- Rainfall: string (nullable = true)\n",
      " |-- Evaporation: string (nullable = true)\n",
      " |-- Sunshine: string (nullable = true)\n",
      " |-- WindGustDir: string (nullable = true)\n",
      " |-- WindGustSpeed: string (nullable = true)\n",
      " |-- WindDir9am: string (nullable = true)\n",
      " |-- WindDir3pm: string (nullable = true)\n",
      " |-- WindSpeed9am: string (nullable = true)\n",
      " |-- WindSpeed3pm: string (nullable = true)\n",
      " |-- Humidity9am: string (nullable = true)\n",
      " |-- Humidity3pm: string (nullable = true)\n",
      " |-- Pressure9am: string (nullable = true)\n",
      " |-- Pressure3pm: string (nullable = true)\n",
      " |-- Cloud9am: string (nullable = true)\n",
      " |-- Cloud3pm: string (nullable = true)\n",
      " |-- Temp9am: string (nullable = true)\n",
      " |-- Temp3pm: string (nullable = true)\n",
      " |-- RainToday: string (nullable = true)\n",
      " |-- RISK_MM: double (nullable = true)\n",
      " |-- RainTomorrow: string (nullable = true)\n",
      "\n"
     ]
    }
   ],
   "source": [
    "df.printSchema()"
   ]
  },
  {
   "cell_type": "markdown",
   "metadata": {},
   "source": [
    "# creating day of the year field  to capture seasonal pattern"
   ]
  },
  {
   "cell_type": "code",
   "execution_count": 41,
   "metadata": {},
   "outputs": [
    {
     "data": {
      "text/plain": [
       "df1: org.apache.spark.sql.DataFrame = [Date: timestamp, Location: string ... 23 more fields]\n"
      ]
     },
     "execution_count": 41,
     "metadata": {},
     "output_type": "execute_result"
    }
   ],
   "source": [
    "val df1= df.withColumn(\"Day_of_year\",date_format(df2(\"Date\"),\"D\"))"
   ]
  },
  {
   "cell_type": "markdown",
   "metadata": {},
   "source": [
    "# Changing the fields to right format"
   ]
  },
  {
   "cell_type": "code",
   "execution_count": 60,
   "metadata": {},
   "outputs": [
    {
     "data": {
      "text/plain": [
       "df2: org.apache.spark.sql.DataFrame = [Date: timestamp, Location: string ... 22 more fields]\n"
      ]
     },
     "execution_count": 60,
     "metadata": {},
     "output_type": "execute_result"
    }
   ],
   "source": [
    "val df2 = df1.selectExpr(\"Date\",\"Location\",\n",
    "                        \"cast(MinTemp as double) MinTemp\",\n",
    "                        \"cast (MaxTemp as double) MaxTemp\",\n",
    "                        \"cast (Rainfall as double) Rainfall\",\n",
    "                        \"cast (Evaporation as double) Evaporation\",\n",
    "                         \"cast (Sunshine as double) Sunshine\",\n",
    "                        \"WindGustDir\",\n",
    "                         \"cast (WindGustSpeed as double) WindGustSpeed\",\n",
    "                        \"WindDir9am\",\"WindDir3pm\",\n",
    "                         \"cast (WindSpeed9am as double) WindSpeed9am\",\n",
    "                         \"cast (WindSpeed3pm as double) WindSpeed3pm\",\n",
    "                         \"cast (Humidity9am as double) Humidity9am\",\n",
    "                         \"cast (Pressure9am as double) Pressure9am\",\n",
    "                         \"cast (Pressure3pm as double) Pressure3pm\",\n",
    "                         \"cast (Cloud9am as double) Cloud9am\",\n",
    "                         \"cast (Cloud3pm as double) Cloud3pm\",\n",
    "                        \"cast (Temp3pm as double) Temp3pm\",\n",
    "                        \"cast (Temp9am as double) Temp9am\",\n",
    "                         \"cast(Day_of_year as double) Day_of_year\",\n",
    "                        \"RainToday\",\n",
    "                        \"RISK_MM\",\n",
    "                        \"RainTomorrow\"\n",
    "                                                  )\n",
    "                        "
   ]
  },
  {
   "cell_type": "code",
   "execution_count": null,
   "metadata": {},
   "outputs": [],
   "source": []
  },
  {
   "cell_type": "code",
   "execution_count": 61,
   "metadata": {},
   "outputs": [
    {
     "name": "stdout",
     "output_type": "stream",
     "text": [
      "root\n",
      " |-- Date: timestamp (nullable = true)\n",
      " |-- Location: string (nullable = true)\n",
      " |-- MinTemp: double (nullable = true)\n",
      " |-- MaxTemp: double (nullable = true)\n",
      " |-- Rainfall: double (nullable = true)\n",
      " |-- Evaporation: double (nullable = true)\n",
      " |-- Sunshine: double (nullable = true)\n",
      " |-- WindGustDir: string (nullable = true)\n",
      " |-- WindGustSpeed: double (nullable = true)\n",
      " |-- WindDir9am: string (nullable = true)\n",
      " |-- WindDir3pm: string (nullable = true)\n",
      " |-- WindSpeed9am: double (nullable = true)\n",
      " |-- WindSpeed3pm: double (nullable = true)\n",
      " |-- Humidity9am: double (nullable = true)\n",
      " |-- Pressure9am: double (nullable = true)\n",
      " |-- Pressure3pm: double (nullable = true)\n",
      " |-- Cloud9am: double (nullable = true)\n",
      " |-- Cloud3pm: double (nullable = true)\n",
      " |-- Temp3pm: double (nullable = true)\n",
      " |-- Temp9am: double (nullable = true)\n",
      " |-- Day_of_year: double (nullable = true)\n",
      " |-- RainToday: string (nullable = true)\n",
      " |-- RISK_MM: double (nullable = true)\n",
      " |-- RainTomorrow: string (nullable = true)\n",
      "\n"
     ]
    }
   ],
   "source": [
    "df2.printSchema()"
   ]
  },
  {
   "cell_type": "markdown",
   "metadata": {},
   "source": [
    "# creating a month field to capture the seasonal pattern"
   ]
  },
  {
   "cell_type": "code",
   "execution_count": 62,
   "metadata": {},
   "outputs": [
    {
     "data": {
      "text/plain": [
       "df3: org.apache.spark.sql.DataFrame = [Date: timestamp, Location: string ... 23 more fields]\n"
      ]
     },
     "execution_count": 62,
     "metadata": {},
     "output_type": "execute_result"
    }
   ],
   "source": [
    "val df3= df2.withColumn(\"Month\",month(df2(\"Date\")))"
   ]
  },
  {
   "cell_type": "markdown",
   "metadata": {},
   "source": []
  },
  {
   "cell_type": "code",
   "execution_count": null,
   "metadata": {},
   "outputs": [],
   "source": []
  },
  {
   "cell_type": "code",
   "execution_count": 63,
   "metadata": {},
   "outputs": [
    {
     "name": "stdout",
     "output_type": "stream",
     "text": [
      "root\n",
      " |-- Date: timestamp (nullable = true)\n",
      " |-- Location: string (nullable = true)\n",
      " |-- MinTemp: double (nullable = true)\n",
      " |-- MaxTemp: double (nullable = true)\n",
      " |-- Rainfall: double (nullable = true)\n",
      " |-- Evaporation: double (nullable = true)\n",
      " |-- Sunshine: double (nullable = true)\n",
      " |-- WindGustDir: string (nullable = true)\n",
      " |-- WindGustSpeed: double (nullable = true)\n",
      " |-- WindDir9am: string (nullable = true)\n",
      " |-- WindDir3pm: string (nullable = true)\n",
      " |-- WindSpeed9am: double (nullable = true)\n",
      " |-- WindSpeed3pm: double (nullable = true)\n",
      " |-- Humidity9am: double (nullable = true)\n",
      " |-- Pressure9am: double (nullable = true)\n",
      " |-- Pressure3pm: double (nullable = true)\n",
      " |-- Cloud9am: double (nullable = true)\n",
      " |-- Cloud3pm: double (nullable = true)\n",
      " |-- Temp3pm: double (nullable = true)\n",
      " |-- Temp9am: double (nullable = true)\n",
      " |-- Day_of_year: double (nullable = true)\n",
      " |-- RainToday: string (nullable = true)\n",
      " |-- RISK_MM: double (nullable = true)\n",
      " |-- RainTomorrow: string (nullable = true)\n",
      " |-- Month: integer (nullable = true)\n",
      "\n"
     ]
    }
   ],
   "source": [
    "df3.printSchema()"
   ]
  },
  {
   "cell_type": "code",
   "execution_count": null,
   "metadata": {},
   "outputs": [],
   "source": []
  },
  {
   "cell_type": "code",
   "execution_count": null,
   "metadata": {},
   "outputs": [],
   "source": []
  },
  {
   "cell_type": "code",
   "execution_count": 64,
   "metadata": {},
   "outputs": [
    {
     "data": {
      "text/plain": [
       "res22: Array[org.apache.spark.sql.Row] = Array([2008-12-01 00:00:00.0,Albury,13.4,22.9,0.6,null,null,W,44.0,W,WNW,20.0,24.0,71.0,1007.7,1007.1,8.0,null,21.8,16.9,336.0,No,0.0,No,12], [2008-12-02 00:00:00.0,Albury,7.4,25.1,0.0,null,null,WNW,44.0,NNW,WSW,4.0,22.0,44.0,1010.6,1007.8,null,null,24.3,17.2,337.0,No,0.0,No,12], [2008-12-03 00:00:00.0,Albury,12.9,25.7,0.0,null,null,WSW,46.0,W,WSW,19.0,26.0,38.0,1007.6,1008.7,null,2.0,23.2,21.0,338.0,No,0.0,No,12], [2008-12-04 00:00:00.0,Albury,9.2,28.0,0.0,null,null,NE,24.0,SE,E,11.0,9.0,45.0,1017.6,1012.8,null,null,26.5,18.1,339.0,No,1.0,No,12], [2008-12-05 00:00:00.0,Albury,17.5,32.3,1.0,null,null,W,41.0,ENE,NW,7.0,20.0,82.0,1010.8,1006.0,7.0,8.0,29.7,17.8,340.0,No,0.2,No,12])\n"
      ]
     },
     "execution_count": 64,
     "metadata": {},
     "output_type": "execute_result"
    }
   ],
   "source": [
    "df3.head(5)"
   ]
  },
  {
   "cell_type": "markdown",
   "metadata": {},
   "source": [
    "# Imputing location wise monthly average  or day of the week average for null values\n"
   ]
  },
  {
   "cell_type": "code",
   "execution_count": 65,
   "metadata": {},
   "outputs": [
    {
     "name": "stdout",
     "output_type": "stream",
     "text": [
      "+-------------+------------------+------------------+------------------+------------------+------------------+------------------+------------------+------------------+------------------+------------------+------------------+------------------+------------------+------------------+------------------+------------------+------------------+------------------+\n",
      "|     Location|      avg(MinTemp)|      avg(MaxTemp)|     avg(Rainfall)|  avg(Evaporation)|     avg(Sunshine)|avg(WindGustSpeed)| avg(WindSpeed9am)| avg(WindSpeed3pm)|  avg(Humidity9am)|  avg(Pressure9am)|  avg(Pressure3pm)|     avg(Cloud9am)|     avg(Cloud3pm)|      avg(Temp3pm)|      avg(Temp9am)|  avg(Day_of_year)|      avg(RISK_MM)|        avg(Month)|\n",
      "+-------------+------------------+------------------+------------------+------------------+------------------+------------------+------------------+------------------+------------------+------------------+------------------+------------------+------------------+------------------+------------------+------------------+------------------+------------------+\n",
      "|       Cairns|21.199196518245742|29.544344042837974| 5.765317139001365|  6.21197582168493|7.5759953161592435| 38.06799057556378|15.926372155287819| 21.92701707398728| 69.90227576974564|1014.1542838018759|1011.1034471218202| 4.557973599714591| 4.429906542056075|27.896653279785774|  25.7994645247657| 178.2289156626506| 5.741900937081676| 6.363453815261044|\n",
      "|NorfolkIsland|16.839959500506236| 21.79274628879893| 3.137567934782603| 4.738026124818572| 7.021750972762659| 42.63997262149213| 20.16847090663058| 21.89264010803511| 70.81007096992226|1017.6313599458713|1015.8875759621881| 4.995866345160179| 4.842050929112181|20.436158001350467| 19.74535315985128|177.83771929824562|3.1276653171389963| 6.351889338731444|\n",
      "|      Bendigo|  8.59106495219255|21.616683151994728|1.6214521452145108| 3.851729957805905|              null|38.849283094364786|12.934675024744308|17.157373804025074| 70.54308352591615|1018.0242715231786|1015.8695206611555| 4.396618357487923| 4.857079841199823|20.249884602703585|13.844788918205824|179.84442979564932| 1.619380355965711| 6.415952537903758|\n",
      "|      Walpole|11.915710723192051|20.566820768136616|2.8773285198555856|              null|              null| 39.75305096913137|13.883753999289015|17.260838663823737| 76.00574712643679|1017.8456514022004|1016.1897763578288|              null|              null|18.667589634362784| 16.03929712460064| 175.2823696346222|2.9072011351542995| 6.266406527137283|\n",
      "|     Canberra| 6.827688250805757|20.980644216691047|1.7350382128159827|  4.40471749862863| 7.403240740740755|  40.0821740537043|10.415987460815048| 19.12582159624413| 73.21656240691094|1018.9867251095781| 1016.235272045027| 4.873724489795919| 4.789279112754159|19.477015537965382| 12.68159364892678| 181.3227033352838|1.7417203042714957| 6.461966062024576|\n",
      "|      Woomera| 13.31389819156064| 26.54213520749662|0.4899463806970519|10.116653666146645| 9.063005491762363|44.080962059620596|19.991962491627596|20.613941018766756| 53.11891165602956|1018.6833165491788|1016.0199260752685| 2.510468214693567| 2.881950384944397| 25.15942417140944|17.874874539979896|177.63311036789298|0.4905685618729106| 6.344816053511706|\n",
      "|     Adelaide|12.628367875647646|22.945401554404082| 1.572185430463575| 5.824924196482716| 7.752002355712606| 36.53081186827519| 9.954294975688818|15.470664505672609|59.618476499189626|1018.7275794938366|1016.7722024002572|              null|              null|21.603953337653923|16.973192868719593|183.19288025889966| 1.565242718446601|6.5239482200647245|\n",
      "|        Cobar| 13.12034182305631| 25.83408101774354|1.1292617449664417| 6.720797292215104| 8.674363636363639|36.728813559322035| 14.63651647612643|15.128653006382264| 55.15831593597773|1017.9951367781144|1015.3300371245368|3.2989690721649483| 3.851135094901377|24.509087860496336| 18.08450704225353|177.59236947791166|1.1273092369477897| 6.343708165997323|\n",
      "|SydneyAirport|14.894041278295612| 23.37890183028289| 2.995334888370546| 5.252450152078406|  7.19812646370025|47.222071767095464|18.591605596269154|25.778295605858855| 64.81052281052281|1018.3605939272588|1015.9696535642906| 4.276574475174941| 4.274875207986689|21.776165113182415| 18.53898135818904|177.97071547420964| 3.009916805324462| 6.355074875207987|\n",
      "| PerthAirport|  12.5803589232303| 25.53323363243602|1.7616483881688256| 5.662832446808515| 8.795306258322219| 44.20182247721903|17.753574991686065|21.268284574468087| 58.77567298105683|1017.8903225806455|1015.3667885638316| 3.371466577984702|3.4442595673876872|24.086934840425567|18.773479561316044| 177.9155865736125|1.7616483881688256|6.3532735127949485|\n",
      "|   Wollongong|  14.9490578734859| 21.47651006711409|3.5891267414203223|              null|              null| 45.69525731584258|16.645248562732498|21.956492411467117| 67.67375886524823|1018.1126832594657|1016.0230769230775| 6.217095310136157|5.8626609442060085|19.942515171948756|18.208679500168824| 180.0569896077774|3.5936976198457957|6.4237344954743545|\n",
      "|  Williamtown|12.820376175548573|24.147019607843177|3.5109848484848385| 6.957166853303479|7.1400444115470165| 41.75369458128079| 16.49684791174153| 22.45797329143755| 71.25962293794187|1018.3659064097511| 1015.842138364779|4.5536992840095465| 4.393241919686582| 22.64453155625245|18.210200078462133|177.16568742655699|3.5911084998041507| 6.322365844104975|\n",
      "|        Moree|12.786255259467062| 26.88686054660126|1.6032963095664614|7.6299642218246895| 8.896590355577194| 39.79942487419123|18.024511545293073| 16.92294034090909|61.217543859649126|1018.3097056762451|1014.9356817385207|   3.3171657528469|3.9457831325301207|25.603573931324465| 18.80441485634196|178.50595655220744|1.6302032235458983|  6.37666433076384|\n",
      "|      Mildura|  10.7339541070835| 24.84153641503151|0.9450249584026625| 5.935951557093428| 8.468104347826094| 37.17082917082917|14.000665557404327|16.691949434464405|  64.1005326231691|1018.7710289710291|1016.2624292845265| 3.385220663701676|3.9209513816019586|23.428443113772513|15.530871590153033| 177.9491187229797|0.9450615231127373| 6.354506152311274|\n",
      "|     Portland| 9.585537328423172|18.055626043405685| 2.531032171581759|3.4215140981073793| 6.496751467710368|42.058882907133246|16.322979291917168|20.774215096860388| 78.73566338649474|1017.6862600536209|1016.6201942397856| 6.334364128333978| 6.068603712671509|16.509115281501323|  13.1921641791045| 177.9122162883845|2.5317757009345683| 6.352803738317757|\n",
      "|       Albany|12.948461278322574|20.072587131367285| 2.255073431241649|  4.20727339181287| 6.658764940239054|              null|12.498985801217039|19.001304915180512| 74.82020202020202|1018.2830491474425|1016.5006684491974| 5.190875545119088| 4.808703145196036|18.412974137931023|16.233154362416176|179.71584880636604|2.2639257294429638| 6.413129973474801|\n",
      "|   SalmonGums| 9.302578018995934| 24.24920365977637| 1.032301938116285|              null|              null|39.761086283946376|16.286399451867076|17.313228238519535| 62.81273281408737|              null|              null|              null|              null|22.660670731707363| 17.04334575008465|178.16920473773266|1.0342470389170877| 6.361421319796954|\n",
      "|     Brisbane| 16.41099841521393| 26.44152676591707|3.1605363984674373|5.4088478676002545| 8.082781882428515| 28.21137952956135| 6.950964884530212|11.000633111744223| 64.01487812598924|1018.2469471686197|1015.1167141500441| 3.918354430379747|3.8790756568534346|24.742354060913772| 21.82918645140868| 184.1664030370136|3.1448908573236363| 6.556785827269851|\n",
      "|       Sydney|14.865056988602275|23.002338830584726|3.3302311618132627|  5.18743152769325| 7.179373682625727|41.761408083441985|15.070673512533977| 19.33544685990338| 68.22900993078544|1018.3461561652084|1016.0187739602158| 4.181522915914832| 4.218659942363113| 21.53333333333329| 17.81974197419742|179.80821096793528| 3.319868145040449| 6.413545100389571|\n",
      "|        Perth|12.922705919198231|25.034837092731838|1.9062950203570268| 5.606578947368423| 8.784535759096599|34.882998745294856| 10.69339179455058|14.519736842105264| 62.68812814070352|1017.7843984962375|1015.4204573934817|3.3835788154183644|3.4697397303229853|23.461748120300754|18.573598496711526|183.48136548700282|1.9062950203570268| 6.534293767616662|\n",
      "+-------------+------------------+------------------+------------------+------------------+------------------+------------------+------------------+------------------+------------------+------------------+------------------+------------------+------------------+------------------+------------------+------------------+------------------+------------------+\n",
      "only showing top 20 rows\n",
      "\n"
     ]
    },
    {
     "data": {
      "text/plain": [
       "avrg: Unit = ()\n"
      ]
     },
     "execution_count": 65,
     "metadata": {},
     "output_type": "execute_result"
    }
   ],
   "source": [
    "val avrg = df3.groupBy(\"Location\").mean().show()"
   ]
  },
  {
   "cell_type": "code",
   "execution_count": 66,
   "metadata": {},
   "outputs": [
    {
     "data": {
      "text/plain": [
       "albury: org.apache.spark.sql.Dataset[org.apache.spark.sql.Row] = [Date: timestamp, Location: string ... 23 more fields]\n"
      ]
     },
     "execution_count": 66,
     "metadata": {},
     "output_type": "execute_result"
    }
   ],
   "source": [
    "val albury=df3.filter($\"Location\"===\"Albury\")"
   ]
  },
  {
   "cell_type": "code",
   "execution_count": 67,
   "metadata": {},
   "outputs": [
    {
     "data": {
      "text/plain": [
       "avgmonth: org.apache.spark.sql.DataFrame = [Month: int, avg(MinTemp): double ... 17 more fields]\n"
      ]
     },
     "execution_count": 67,
     "metadata": {},
     "output_type": "execute_result"
    }
   ],
   "source": [
    "val avgmonth=albury.groupBy(\"Month\").mean()"
   ]
  },
  {
   "cell_type": "code",
   "execution_count": 68,
   "metadata": {},
   "outputs": [
    {
     "data": {
      "text/plain": [
       "avgday: org.apache.spark.sql.DataFrame = [Day_of_year: double, avg(MinTemp): double ... 17 more fields]\n"
      ]
     },
     "execution_count": 68,
     "metadata": {},
     "output_type": "execute_result"
    }
   ],
   "source": [
    "val avgday=albury.groupBy(\"Day_of_year\").mean()"
   ]
  },
  {
   "cell_type": "code",
   "execution_count": 69,
   "metadata": {},
   "outputs": [
    {
     "data": {
      "text/plain": [
       "res23: Array[org.apache.spark.sql.Row] = Array([299.0,10.437499999999998,23.775000000000002,0.0,null,null,36.75,11.5,19.0,62.125,1017.5749999999999,1015.9375,1.0,2.0,22.650000000000002,16.437500000000004,299.0,0.225,10.0], [305.0,11.374999999999998,25.35,2.175,null,null,41.375,11.25,18.75,68.25,1016.0374999999999,1012.8625000000001,7.666666666666667,3.5,24.0125,16.7875,305.0,3.475,10.75], [147.0,6.055555555555556,15.58888888888889,2.5555555555555554,null,null,25.88888888888889,5.333333333333333,12.88888888888889,94.11111111111111,1019.2777777777778,1016.5333333333333,7.222222222222222,6.833333333333333,14.5,9.68888888888889,147.0,5.377777777777778,5.0], [170.0,3.644444444444444,14.077777777777778,2.0444444444444443,null,null,19.88888888888889,4.555555555555555,8.555555555555555,94.0,102..."
      ]
     },
     "execution_count": 69,
     "metadata": {},
     "output_type": "execute_result"
    }
   ],
   "source": [
    "avgday.head(5)"
   ]
  },
  {
   "cell_type": "markdown",
   "metadata": {},
   "source": [
    "# Creating dummy variables for categorical fields\n",
    "# windgustdir\n",
    "# windir 9am\n",
    "# windir 3pm\n",
    "# Needed?"
   ]
  },
  {
   "cell_type": "code",
   "execution_count": null,
   "metadata": {},
   "outputs": [],
   "source": []
  },
  {
   "cell_type": "markdown",
   "metadata": {},
   "source": [
    "# Changing fields raintoday &  raintomorrow to with Flase  & True"
   ]
  },
  {
   "cell_type": "code",
   "execution_count": null,
   "metadata": {},
   "outputs": [],
   "source": []
  },
  {
   "cell_type": "markdown",
   "metadata": {},
   "source": []
  }
 ],
 "metadata": {
  "kernelspec": {
   "display_name": "spylon-kernel",
   "language": "scala",
   "name": "spylon-kernel"
  },
  "language_info": {
   "codemirror_mode": "text/x-scala",
   "file_extension": ".scala",
   "help_links": [
    {
     "text": "MetaKernel Magics",
     "url": "https://metakernel.readthedocs.io/en/latest/source/README.html"
    }
   ],
   "mimetype": "text/x-scala",
   "name": "scala",
   "pygments_lexer": "scala",
   "version": "0.4.1"
  }
 },
 "nbformat": 4,
 "nbformat_minor": 4
}
