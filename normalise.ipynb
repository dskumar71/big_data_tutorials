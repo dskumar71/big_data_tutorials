{
 "cells": [
  {
   "cell_type": "markdown",
   "metadata": {},
   "source": [
    "\n",
    "\n",
    "docker cp /home/yury/weatherAUS.csv bd_cont:/home/weatherAUS.csv\n",
    "\n",
    "docker cp /home/yury/normalise.ipynb bd_cont:/home/normalise.ipynb"
   ]
  },
  {
   "cell_type": "code",
   "execution_count": 2,
   "metadata": {},
   "outputs": [
    {
     "data": {
      "text/plain": [
       "import org.apache.spark.mllib.linalg.Vectors\n",
       "import org.apache.spark.ml.feature.MinMaxScaler\n",
       "import org.apache.spark.sql.functions.udf\n",
       "import org.apache.spark.ml.feature.VectorAssembler\n",
       "import org.apache.spark.sql.types.DoubleType\n"
      ]
     },
     "execution_count": 2,
     "metadata": {},
     "output_type": "execute_result"
    }
   ],
   "source": [
    "import org.apache.spark.mllib.linalg.Vectors\n",
    "import org.apache.spark.ml.feature.MinMaxScaler\n",
    "import org.apache.spark.sql.functions.udf\n",
    "import org.apache.spark.ml.feature.VectorAssembler\n",
    "import org.apache.spark.sql.types.DoubleType"
   ]
  },
  {
   "cell_type": "code",
   "execution_count": 3,
   "metadata": {},
   "outputs": [
    {
     "data": {
      "text/plain": [
       "weather_org_df: org.apache.spark.sql.DataFrame = [Date: timestamp, Location: string ... 22 more fields]\n"
      ]
     },
     "execution_count": 3,
     "metadata": {},
     "output_type": "execute_result"
    }
   ],
   "source": [
    "val weather_org_df = spark.\n",
    "        read.\n",
    "        option(\"inferSchema\", \"true\").\n",
    "        option(\"header\",\"true\").\n",
    "        option(\"mode\",\"DROPMALFORMED\").\n",
    "        option(\"delimiter\", \",\").\n",
    "        csv(\"part-00000-dfc11f65-5287-4c73-be9f-d12bac5d8fff-c000.csv\")"
   ]
  },
  {
   "cell_type": "code",
   "execution_count": 4,
   "metadata": {},
   "outputs": [],
   "source": [
    "weather_org_df.registerTempTable(\"Aus_Rain_Data\")"
   ]
  },
  {
   "cell_type": "markdown",
   "metadata": {},
   "source": [
    "<font color='red'>\n",
    "YURY =====================================      MY CODE STARTS     =====================================\n",
    " </font>"
   ]
  },
  {
   "cell_type": "code",
   "execution_count": 5,
   "metadata": {},
   "outputs": [
    {
     "data": {
      "text/plain": [
       "df0: org.apache.spark.sql.DataFrame = [Date: timestamp, Location: string ... 22 more fields]\n"
      ]
     },
     "execution_count": 5,
     "metadata": {},
     "output_type": "execute_result"
    }
   ],
   "source": [
    "val df0 = spark.sql(\"select * from Aus_Rain_Data\")"
   ]
  },
  {
   "cell_type": "code",
   "execution_count": 6,
   "metadata": {},
   "outputs": [
    {
     "data": {
      "text/plain": [
       "df1: org.apache.spark.sql.DataFrame = [Date: timestamp, Location: string ... 22 more fields]\n",
       "df2: org.apache.spark.sql.DataFrame = [Date: timestamp, Location: string ... 22 more fields]\n"
      ]
     },
     "execution_count": 6,
     "metadata": {},
     "output_type": "execute_result"
    }
   ],
   "source": [
    "val df1 = df0.withColumn(\"Pressure9amTmp\", df0(\"Pressure9am\").cast(DoubleType))\n",
    "    .drop(\"Pressure9am\")\n",
    "    .withColumnRenamed(\"Pressure9amTmp\", \"Pressure9am\")\n",
    "\n",
    "val df2 = df1.withColumn(\"Pressure3pmTmp\", df1(\"Pressure3pm\").cast(DoubleType))\n",
    "    .drop(\"Pressure3pm\")\n",
    "    .withColumnRenamed(\"Pressure3pmTmp\", \"Pressure3pm\")"
   ]
  },
  {
   "cell_type": "code",
   "execution_count": 7,
   "metadata": {},
   "outputs": [
    {
     "data": {
      "text/plain": [
       "min_P9am: Double = 980.5\n",
       "max_P9am: Double = 1041.0\n"
      ]
     },
     "execution_count": 7,
     "metadata": {},
     "output_type": "execute_result"
    }
   ],
   "source": [
    "val min_P9am = df2.agg(min(\"Pressure9am\") as \"min_P9am\").select(col(\"min_P9am\")).first.getDouble(0)\n",
    "val max_P9am = df2.agg(max(\"Pressure9am\") as \"max_P9am\").select(col(\"max_P9am\")).first.getDouble(0)"
   ]
  },
  {
   "cell_type": "code",
   "execution_count": 8,
   "metadata": {},
   "outputs": [
    {
     "data": {
      "text/plain": [
       "min_P3pm: Double = 977.1\n",
       "max_P3pm: Double = 1039.6\n"
      ]
     },
     "execution_count": 8,
     "metadata": {},
     "output_type": "execute_result"
    }
   ],
   "source": [
    "val min_P3pm = df2.agg(min(\"Pressure3pm\") as \"min_P3pm\").select(col(\"min_P3pm\")).first.getDouble(0)\n",
    "val max_P3pm = df2.agg(max(\"Pressure3pm\") as \"max_P3pm\").select(col(\"max_P3pm\")).first.getDouble(0)"
   ]
  },
  {
   "cell_type": "code",
   "execution_count": 9,
   "metadata": {},
   "outputs": [
    {
     "data": {
      "text/plain": [
       "minPRange: Double = 970.0\n",
       "maxPRange: Double = 1050.0\n"
      ]
     },
     "execution_count": 9,
     "metadata": {},
     "output_type": "execute_result"
    }
   ],
   "source": [
    "val minPRange = 970.0    //from the report\n",
    "val maxPRange = 1050.0   //from the report"
   ]
  },
  {
   "cell_type": "markdown",
   "metadata": {},
   "source": [
    "<font color='blue'>\n",
    "\\begin{equation}\n",
    "  Rescaled_{9am} = \\frac{Pressure_i - Pressure_{min9am}}{Pressure_{max9am} - Pressure_{min9am}} * (maxPressureRange - minPressureRange) + minPressureRange\n",
    "\\end{equation}\n",
    "<font color='red'>"
   ]
  },
  {
   "cell_type": "code",
   "execution_count": 10,
   "metadata": {
    "scrolled": true
   },
   "outputs": [
    {
     "data": {
      "text/plain": [
       "df3: org.apache.spark.sql.DataFrame = [Date: timestamp, Location: string ... 22 more fields]\n"
      ]
     },
     "execution_count": 10,
     "metadata": {},
     "output_type": "execute_result"
    }
   ],
   "source": [
    "val df3 = df2.withColumn(\"Pressure3pmTmp\", \n",
    "    (((df2(\"Pressure3pm\") - min_P3pm) / (max_P3pm -min_P3pm)) * (maxPRange - minPRange)) + minPRange)\n",
    "    .drop(\"Pressure3pm\")\n",
    "    .withColumnRenamed(\"Pressure3pmTmp\", \"Pressure3pm\")"
   ]
  },
  {
   "cell_type": "code",
   "execution_count": 11,
   "metadata": {
    "scrolled": true
   },
   "outputs": [
    {
     "data": {
      "text/plain": [
       "df4: org.apache.spark.sql.DataFrame = [Date: timestamp, Location: string ... 22 more fields]\n"
      ]
     },
     "execution_count": 11,
     "metadata": {},
     "output_type": "execute_result"
    }
   ],
   "source": [
    "val df4 = df3.withColumn(\"Pressure9amTmp\", \n",
    "    (((df2(\"Pressure9am\") - min_P9am) / (max_P9am -min_P9am)) * (maxPRange - minPRange)) + minPRange)\n",
    "    .drop(\"Pressure9am\")\n",
    "    .withColumnRenamed(\"Pressure9amTmp\", \"Pressure9am\")"
   ]
  },
  {
   "cell_type": "code",
   "execution_count": 12,
   "metadata": {},
   "outputs": [],
   "source": [
    "df4.coalesce(1)\n",
    "      .write\n",
    "      .option(\"header\",\"true\")\n",
    "      .option(\"sep\",\",\")\n",
    "      .mode(\"overwrite\")\n",
    "      .csv(\"normalised\")"
   ]
  },
  {
   "cell_type": "code",
   "execution_count": 13,
   "metadata": {
    "scrolled": true
   },
   "outputs": [
    {
     "name": "stdout",
     "output_type": "stream",
     "text": [
      "_SUCCESS  part-00000-d16d2c38-3b7a-4413-9e3e-6c8778709a3e-c000.csv\r\n",
      "\n"
     ]
    }
   ],
   "source": [
    "!ls /home/normalised"
   ]
  },
  {
   "cell_type": "code",
   "execution_count": 14,
   "metadata": {},
   "outputs": [],
   "source": [
    "!mv /home/normalised/*.csv /home/normalised/weatherAUS_N.csv"
   ]
  },
  {
   "cell_type": "code",
   "execution_count": 15,
   "metadata": {},
   "outputs": [],
   "source": [
    "!mv /home/normalised/weatherAUS_N.csv /home/weatherAUS_N.csv"
   ]
  },
  {
   "cell_type": "code",
   "execution_count": 16,
   "metadata": {},
   "outputs": [
    {
     "name": "stdout",
     "output_type": "stream",
     "text": [
      "142194 weatherAUS_N.csv\n",
      "\n",
      "142194 weatherAUS.csv\n",
      "\n"
     ]
    }
   ],
   "source": [
    "!wc -l   weatherAUS_N.csv\n",
    "!wc -l   weatherAUS.csv"
   ]
  },
  {
   "cell_type": "code",
   "execution_count": 17,
   "metadata": {},
   "outputs": [],
   "source": [
    "!rm -r /home/normalised/"
   ]
  },
  {
   "cell_type": "markdown",
   "metadata": {},
   "source": [
    "<font color='red'>\n",
    "YURY=====================================      MY CODE ENDS     =====================================\n",
    " </font>"
   ]
  },
  {
   "cell_type": "markdown",
   "metadata": {},
   "source": [
    "\n",
    "docker cp  bd_cont:/home/weatherAUS_N.csv /home/yury/weatherAUS_N.csv\n",
    "\n",
    "docker cp  bd_cont:/home/normalise.ipynb /home/yury/normalise.ipynb\n"
   ]
  },
  {
   "cell_type": "code",
   "execution_count": null,
   "metadata": {},
   "outputs": [],
   "source": []
  }
 ],
 "metadata": {
  "kernelspec": {
   "display_name": "spylon-kernel",
   "language": "scala",
   "name": "spylon-kernel"
  },
  "language_info": {
   "codemirror_mode": "text/x-scala",
   "file_extension": ".scala",
   "help_links": [
    {
     "text": "MetaKernel Magics",
     "url": "https://metakernel.readthedocs.io/en/latest/source/README.html"
    }
   ],
   "mimetype": "text/x-scala",
   "name": "scala",
   "pygments_lexer": "scala",
   "version": "0.4.1"
  }
 },
 "nbformat": 4,
 "nbformat_minor": 4
}
