{
 "cells": [
  {
   "cell_type": "markdown",
   "metadata": {},
   "source": [
    "<H1>1) Data Load </H1>\n",
    "\n"
   ]
  },
  {
   "cell_type": "markdown",
   "metadata": {},
   "source": [
    "\n",
    "1.1  Import All Spark Libraries "
   ]
  },
  {
   "cell_type": "code",
   "execution_count": 2,
   "metadata": {},
   "outputs": [
    {
     "data": {
      "text/plain": [
       "import org.apache.spark._\n",
       "import spark.implicits._\n",
       "import org.apache.spark.sql.expressions.Window\n",
       "import org.apache.spark.sql.SQLContext\n",
       "import org.apache.spark.{SparkContext, SparkConf}\n",
       "import org.apache.spark.sql.types._\n",
       "import org.apache.spark.sql.functions._\n",
       "import org.apache.spark.ml.feature.Imputer\n"
      ]
     },
     "execution_count": 2,
     "metadata": {},
     "output_type": "execute_result"
    }
   ],
   "source": [
    "\n",
    "import  org.apache.spark._ \n",
    "import  spark.implicits._\n",
    "import org.apache.spark.sql.expressions.Window\n",
    "import org.apache.spark.sql.SQLContext\n",
    "import org.apache.spark.{SparkContext, SparkConf}\n",
    "import org.apache.spark.sql.types._\n",
    "import org.apache.spark.sql.functions._\n",
    "import org.apache.spark.ml.feature.Imputer\n",
    "\n",
    "\n"
   ]
  },
  {
   "cell_type": "markdown",
   "metadata": {},
   "source": [
    "1.2 Read the Weather input file - this is stored in the local file directory "
   ]
  },
  {
   "cell_type": "code",
   "execution_count": 3,
   "metadata": {},
   "outputs": [
    {
     "data": {
      "text/plain": [
       "weather_org_df: org.apache.spark.sql.DataFrame = [Date: timestamp, Location: string ... 22 more fields]\n"
      ]
     },
     "execution_count": 3,
     "metadata": {},
     "output_type": "execute_result"
    }
   ],
   "source": [
    "val weather_org_df = spark.\n",
    "        read.\n",
    "        option(\"inferSchema\", \"true\").\n",
    "        option(\"header\",\"true\").\n",
    "        option(\"mode\",\"DROPMALFORMED\").\n",
    "        option(\"delimiter\", \",\").\n",
    "        csv(\"weatherAUS.csv\")"
   ]
  },
  {
   "cell_type": "markdown",
   "metadata": {},
   "source": [
    "1.3 Check the Schema of the Data frame"
   ]
  },
  {
   "cell_type": "code",
   "execution_count": 4,
   "metadata": {},
   "outputs": [
    {
     "name": "stdout",
     "output_type": "stream",
     "text": [
      "root\n",
      " |-- Date: timestamp (nullable = true)\n",
      " |-- Location: string (nullable = true)\n",
      " |-- MinTemp: string (nullable = true)\n",
      " |-- MaxTemp: string (nullable = true)\n",
      " |-- Rainfall: string (nullable = true)\n",
      " |-- Evaporation: string (nullable = true)\n",
      " |-- Sunshine: string (nullable = true)\n",
      " |-- WindGustDir: string (nullable = true)\n",
      " |-- WindGustSpeed: string (nullable = true)\n",
      " |-- WindDir9am: string (nullable = true)\n",
      " |-- WindDir3pm: string (nullable = true)\n",
      " |-- WindSpeed9am: string (nullable = true)\n",
      " |-- WindSpeed3pm: string (nullable = true)\n",
      " |-- Humidity9am: string (nullable = true)\n",
      " |-- Humidity3pm: string (nullable = true)\n",
      " |-- Pressure9am: string (nullable = true)\n",
      " |-- Pressure3pm: string (nullable = true)\n",
      " |-- Cloud9am: string (nullable = true)\n",
      " |-- Cloud3pm: string (nullable = true)\n",
      " |-- Temp9am: string (nullable = true)\n",
      " |-- Temp3pm: string (nullable = true)\n",
      " |-- RainToday: string (nullable = true)\n",
      " |-- RISK_MM: double (nullable = true)\n",
      " |-- RainTomorrow: string (nullable = true)\n",
      "\n"
     ]
    }
   ],
   "source": [
    "weather_org_df.printSchema()"
   ]
  },
  {
   "cell_type": "markdown",
   "metadata": {},
   "source": [
    "1.4 Transform the Dataframe columns to correct column type for effective use"
   ]
  },
  {
   "cell_type": "code",
   "execution_count": 5,
   "metadata": {},
   "outputs": [
    {
     "name": "stdout",
     "output_type": "stream",
     "text": [
      "root\n",
      " |-- Date: date (nullable = true)\n",
      " |-- Location: string (nullable = true)\n",
      " |-- MinTemp: double (nullable = true)\n",
      " |-- MaxTemp: double (nullable = true)\n",
      " |-- Rainfall: double (nullable = true)\n",
      " |-- Evaporation: double (nullable = true)\n",
      " |-- Sunshine: double (nullable = true)\n",
      " |-- WindGustDir: string (nullable = true)\n",
      " |-- WindGustSpeed: double (nullable = true)\n",
      " |-- WindDir9am: string (nullable = true)\n",
      " |-- WindDir3pm: string (nullable = true)\n",
      " |-- WindSpeed9am: double (nullable = true)\n",
      " |-- WindSpeed3pm: double (nullable = true)\n",
      " |-- Humidity9am: double (nullable = true)\n",
      " |-- Humidity3pm: double (nullable = true)\n",
      " |-- Pressure9am: double (nullable = true)\n",
      " |-- Pressure3pm: double (nullable = true)\n",
      " |-- Cloud9am: double (nullable = true)\n",
      " |-- Cloud3pm: double (nullable = true)\n",
      " |-- Temp9am: double (nullable = true)\n",
      " |-- Temp3pm: double (nullable = true)\n",
      " |-- RainToday: string (nullable = true)\n",
      " |-- RISK_MM: double (nullable = true)\n",
      " |-- RainTomorrow: string (nullable = true)\n",
      "\n"
     ]
    },
    {
     "data": {
      "text/plain": [
       "weather_org_df_cast: org.apache.spark.sql.DataFrame = [Date: date, Location: string ... 22 more fields]\n"
      ]
     },
     "execution_count": 5,
     "metadata": {},
     "output_type": "execute_result"
    }
   ],
   "source": [
    "val weather_org_df_cast = weather_org_df.withColumn(\"Date\",to_date($\"Date\",\"dd/MM/yyyy\"))\n",
    "            .withColumn(\"MinTemp\",col(\"MinTemp\").cast(DoubleType))\n",
    "            .withColumn(\"MaxTemp\",col(\"MaxTemp\").cast(DoubleType))\n",
    "            .withColumn(\"Rainfall\",col(\"Rainfall\").cast(DoubleType))\n",
    "            .withColumn(\"Evaporation\",col(\"Evaporation\").cast(DoubleType))\n",
    "            .withColumn(\"Sunshine\",col(\"Sunshine\").cast(DoubleType))\n",
    "            .withColumn(\"WindGustSpeed\",col(\"WindGustSpeed\").cast(DoubleType))\n",
    "            .withColumn(\"WindSpeed9am\",col(\"WindSpeed9am\").cast(DoubleType))\n",
    "            .withColumn(\"WindSpeed3pm\",col(\"WindSpeed3pm\").cast(DoubleType))\n",
    "            .withColumn(\"Humidity9am\",col(\"Humidity9am\").cast(DoubleType))\n",
    "            .withColumn(\"Humidity3pm\",col(\"Humidity3pm\").cast(DoubleType))\n",
    "            .withColumn(\"Pressure9am\",col(\"Pressure9am\").cast(DoubleType))\n",
    "            .withColumn(\"Pressure3pm\",col(\"Pressure3pm\").cast(DoubleType))\n",
    "            .withColumn(\"Cloud9am\",col(\"Cloud9am\").cast(DoubleType))\n",
    "            .withColumn(\"Cloud3pm\",col(\"Cloud3pm\").cast(DoubleType))\n",
    "            .withColumn(\"Temp9am\",col(\"Temp9am\").cast(DoubleType))\n",
    "            .withColumn(\"Temp3pm\",col(\"Temp3pm\").cast(DoubleType))\n",
    "weather_org_df_cast.printSchema()"
   ]
  },
  {
   "cell_type": "markdown",
   "metadata": {},
   "source": [
    "1.5 Basic checks to make sure all records are loaded from source "
   ]
  },
  {
   "cell_type": "code",
   "execution_count": 6,
   "metadata": {},
   "outputs": [
    {
     "data": {
      "text/plain": [
       "res2: Long = 142193\n"
      ]
     },
     "execution_count": 6,
     "metadata": {},
     "output_type": "execute_result"
    }
   ],
   "source": [
    "weather_org_df_cast.count() // count of records for confirmation that all records are loaded"
   ]
  },
  {
   "cell_type": "markdown",
   "metadata": {},
   "source": [
    "1.6 Create table for easy data manipulations"
   ]
  },
  {
   "cell_type": "code",
   "execution_count": 7,
   "metadata": {},
   "outputs": [],
   "source": [
    "weather_org_df_cast.createOrReplaceTempView(\"Aus_Rain_Data\")  // Create table for easy manipulations"
   ]
  },
  {
   "cell_type": "code",
   "execution_count": 8,
   "metadata": {
    "scrolled": true
   },
   "outputs": [
    {
     "name": "stdout",
     "output_type": "stream",
     "text": [
      "+----------+--------+-------+-------+--------+-----------+--------+-----------+-------------+----------+----------+------------+------------+-----------+-----------+-----------+-----------+--------+--------+-------+-------+---------+-------+------------+\n",
      "|      Date|Location|MinTemp|MaxTemp|Rainfall|Evaporation|Sunshine|WindGustDir|WindGustSpeed|WindDir9am|WindDir3pm|WindSpeed9am|WindSpeed3pm|Humidity9am|Humidity3pm|Pressure9am|Pressure3pm|Cloud9am|Cloud3pm|Temp9am|Temp3pm|RainToday|RISK_MM|RainTomorrow|\n",
      "+----------+--------+-------+-------+--------+-----------+--------+-----------+-------------+----------+----------+------------+------------+-----------+-----------+-----------+-----------+--------+--------+-------+-------+---------+-------+------------+\n",
      "|2008-12-01|  Albury|   13.4|   22.9|     0.6|       null|    null|          W|         44.0|         W|       WNW|        20.0|        24.0|       71.0|       22.0|     1007.7|     1007.1|     8.0|    null|   16.9|   21.8|       No|    0.0|          No|\n",
      "|2008-12-02|  Albury|    7.4|   25.1|     0.0|       null|    null|        WNW|         44.0|       NNW|       WSW|         4.0|        22.0|       44.0|       25.0|     1010.6|     1007.8|    null|    null|   17.2|   24.3|       No|    0.0|          No|\n",
      "|2008-12-03|  Albury|   12.9|   25.7|     0.0|       null|    null|        WSW|         46.0|         W|       WSW|        19.0|        26.0|       38.0|       30.0|     1007.6|     1008.7|    null|     2.0|   21.0|   23.2|       No|    0.0|          No|\n",
      "|2008-12-04|  Albury|    9.2|   28.0|     0.0|       null|    null|         NE|         24.0|        SE|         E|        11.0|         9.0|       45.0|       16.0|     1017.6|     1012.8|    null|    null|   18.1|   26.5|       No|    1.0|          No|\n",
      "|2008-12-05|  Albury|   17.5|   32.3|     1.0|       null|    null|          W|         41.0|       ENE|        NW|         7.0|        20.0|       82.0|       33.0|     1010.8|     1006.0|     7.0|     8.0|   17.8|   29.7|       No|    0.2|          No|\n",
      "+----------+--------+-------+-------+--------+-----------+--------+-----------+-------------+----------+----------+------------+------------+-----------+-----------+-----------+-----------+--------+--------+-------+-------+---------+-------+------------+\n",
      "only showing top 5 rows\n",
      "\n"
     ]
    }
   ],
   "source": [
    "spark.sql(\"select * from Aus_Rain_Data\").show(5) // First look at the data"
   ]
  },
  {
   "cell_type": "markdown",
   "metadata": {},
   "source": [
    "# 2 Data Analysis "
   ]
  },
  {
   "cell_type": "markdown",
   "metadata": {},
   "source": [
    "2.1 Weather stations Data collected"
   ]
  },
  {
   "cell_type": "code",
   "execution_count": 9,
   "metadata": {},
   "outputs": [
    {
     "data": {
      "text/plain": [
       "weather_dist_Location: org.apache.spark.sql.DataFrame = [Location: string, count: bigint]\n",
       "res5: Long = 49\n"
      ]
     },
     "execution_count": 9,
     "metadata": {},
     "output_type": "execute_result"
    }
   ],
   "source": [
    "val weather_dist_Location = weather_org_df_cast.select($\"Location\").groupBy(\"Location\").count()\n",
    "weather_dist_Location.count() // Number of Locations data collected"
   ]
  },
  {
   "cell_type": "code",
   "execution_count": 10,
   "metadata": {},
   "outputs": [
    {
     "name": "stdout",
     "output_type": "stream",
     "text": [
      "+----------------+\n",
      "|        location|\n",
      "+----------------+\n",
      "|        Adelaide|\n",
      "|          Albany|\n",
      "|          Albury|\n",
      "|    AliceSprings|\n",
      "|   BadgerysCreek|\n",
      "|        Ballarat|\n",
      "|         Bendigo|\n",
      "|        Brisbane|\n",
      "|          Cairns|\n",
      "|        Canberra|\n",
      "|           Cobar|\n",
      "|    CoffsHarbour|\n",
      "|        Dartmoor|\n",
      "|          Darwin|\n",
      "|       GoldCoast|\n",
      "|          Hobart|\n",
      "|       Katherine|\n",
      "|      Launceston|\n",
      "|       Melbourne|\n",
      "|MelbourneAirport|\n",
      "|         Mildura|\n",
      "|           Moree|\n",
      "|    MountGambier|\n",
      "|     MountGinini|\n",
      "|       Newcastle|\n",
      "|            Nhil|\n",
      "|       NorahHead|\n",
      "|   NorfolkIsland|\n",
      "|       Nuriootpa|\n",
      "|      PearceRAAF|\n",
      "|         Penrith|\n",
      "|           Perth|\n",
      "|    PerthAirport|\n",
      "|        Portland|\n",
      "|        Richmond|\n",
      "|            Sale|\n",
      "|      SalmonGums|\n",
      "|          Sydney|\n",
      "|   SydneyAirport|\n",
      "|      Townsville|\n",
      "|     Tuggeranong|\n",
      "|           Uluru|\n",
      "|      WaggaWagga|\n",
      "|         Walpole|\n",
      "|        Watsonia|\n",
      "|     Williamtown|\n",
      "|     Witchcliffe|\n",
      "|      Wollongong|\n",
      "|         Woomera|\n",
      "+----------------+\n",
      "\n"
     ]
    }
   ],
   "source": [
    "spark.sql(\"SELECT distinct location from Aus_Rain_Data order by Location\").show(49) // Check the location of the weather stations"
   ]
  },
  {
   "cell_type": "markdown",
   "metadata": {},
   "source": [
    "<b>Data is available in 49 weather stations </b>"
   ]
  },
  {
   "cell_type": "markdown",
   "metadata": {},
   "source": [
    "2.2 Number of Years The records are available"
   ]
  },
  {
   "cell_type": "code",
   "execution_count": 11,
   "metadata": {},
   "outputs": [
    {
     "name": "stdout",
     "output_type": "stream",
     "text": [
      "+------------+\n",
      "|First_record|\n",
      "+------------+\n",
      "|  2007-11-01|\n",
      "+------------+\n",
      "\n",
      "+-----------+\n",
      "|Last_Record|\n",
      "+-----------+\n",
      "| 2017-06-25|\n",
      "+-----------+\n",
      "\n"
     ]
    }
   ],
   "source": [
    "\n",
    "spark.sql(\"select date as First_record from Aus_Rain_Data order by date limit 1 \").show()\n",
    "spark.sql(\"select date as Last_Record from Aus_Rain_Data order by date desc limit 1 \").show()\n",
    "\n",
    "\n"
   ]
  },
  {
   "cell_type": "markdown",
   "metadata": {},
   "source": [
    "<b>Data is availble for from Nov 2007 to June 2017 - Nearly 10 years records . </b>"
   ]
  },
  {
   "cell_type": "markdown",
   "metadata": {},
   "source": [
    "2.3 Data Range across Data"
   ]
  },
  {
   "cell_type": "code",
   "execution_count": 12,
   "metadata": {},
   "outputs": [
    {
     "name": "stdout",
     "output_type": "stream",
     "text": [
      "+-------+------------------+-----------------+-----------------+-----------------+------------------+-----------------+\n",
      "|summary|           MinTemp|          MaxTemp|          Temp9am|          Temp3pm|       Pressure9am|      Pressure3pm|\n",
      "+-------+------------------+-----------------+-----------------+-----------------+------------------+-----------------+\n",
      "|  count|            141556|           141871|           141289|           139467|            128179|           128212|\n",
      "|   mean|12.186399728729263|23.22678419127248|16.98750858170129|21.68723497314778|1017.6537584159663|1015.258203537901|\n",
      "| stddev| 6.403282674671343|7.117618141018147|6.492838325478932|6.937593868533731|7.1054757115203016|7.036676783493396|\n",
      "|    min|              -8.5|             -4.8|             -7.2|             -5.4|             980.5|            977.1|\n",
      "|    max|              33.9|             48.1|             40.2|             46.7|            1041.0|           1039.6|\n",
      "+-------+------------------+-----------------+-----------------+-----------------+------------------+-----------------+\n",
      "\n",
      "+-------+------------------+-----------------+-----------------+-----------------+------------------+------------------+\n",
      "|summary|     WindGustSpeed|     WindSpeed9am|     WindSpeed3pm|         Rainfall|       Evaporation|          Sunshine|\n",
      "+-------+------------------+-----------------+-----------------+-----------------+------------------+------------------+\n",
      "|  count|            132923|           140845|           139563|           140787|             81350|             74377|\n",
      "|   mean| 39.98429165757619|  14.001988000994|18.63757586179718|2.349974074310995|5.4698242163490995| 7.624853113193616|\n",
      "| stddev|13.588800765487786|8.893337098234486|8.803345036235541|8.465172917616444| 4.188536508895148|3.7815249942144633|\n",
      "|    min|               6.0|              0.0|              0.0|              0.0|               0.0|               0.0|\n",
      "|    max|             135.0|            130.0|             87.0|            371.0|             145.0|              14.5|\n",
      "+-------+------------------+-----------------+-----------------+-----------------+------------------+------------------+\n",
      "\n",
      "+-------+------------------+-----------------+------------------+------------------+\n",
      "|summary|          Cloud9am|         Cloud3pm|       Humidity9am|       Humidity3pm|\n",
      "+-------+------------------+-----------------+------------------+------------------+\n",
      "|  count|             88536|            85099|            140419|            138583|\n",
      "|   mean| 4.437189391885787|4.503166899728551|  68.8438103105705|51.482606091656265|\n",
      "| stddev|2.8870155257336068|2.720632530403662|19.051292535336284|20.797771843698907|\n",
      "|    min|               0.0|              0.0|               0.0|               0.0|\n",
      "|    max|               9.0|              9.0|             100.0|             100.0|\n",
      "+-------+------------------+-----------------+------------------+------------------+\n",
      "\n"
     ]
    }
   ],
   "source": [
    "weather_org_df_cast.select(\"MinTemp\",\"MaxTemp\",\"Temp9am\",\"Temp3pm\",\"Pressure9am\",\"Pressure3pm\").describe().show()\n",
    "weather_org_df_cast.select(\"WindGustSpeed\",\"WindSpeed9am\",\"WindSpeed3pm\",\"Rainfall\",\"Evaporation\",\"Sunshine\").describe().show()\n",
    "weather_org_df_cast.select(\"Cloud9am\",\"Cloud3pm\",\"Humidity9am\",\"Humidity3pm\").describe().show()"
   ]
  },
  {
   "cell_type": "markdown",
   "metadata": {},
   "source": [
    "<b>Data across the entire population of data might give wrong interpretation . Lets look at by location as Australia is very big country and weather across different States vary too much</b>"
   ]
  },
  {
   "cell_type": "markdown",
   "metadata": {},
   "source": [
    "2.4 Data Range across Different Location"
   ]
  },
  {
   "cell_type": "code",
   "execution_count": 15,
   "metadata": {},
   "outputs": [
    {
     "name": "stdout",
     "output_type": "stream",
     "text": [
      "2020-05-27 14:34:16,461 WARN  [Thread-4] util.Utils (Logging.scala:logWarning(66)) - Truncated the string representation of a plan since it was too large. This behavior can be adjusted by setting 'spark.debug.maxToStringFields' in SparkEnv.conf.\n",
      "+----------------+------------------+------------------+------------------+------------------+\n",
      "|        Location|        MinTempavg|        MaxTempavg|             Rfavg|         WindGSavg|\n",
      "+----------------+------------------+------------------+------------------+------------------+\n",
      "|        Adelaide|12.628367875647646|22.945401554404082| 1.572185430463575| 36.53081186827519|\n",
      "|          Albany|12.948461278322574|20.072587131367285| 2.255073431241649|              null|\n",
      "|          Albury|  9.52089850249585|22.630963455149466| 1.925710464727508| 32.95301566144619|\n",
      "|    AliceSprings|13.125181518151814|29.244191419141917|0.8693553719008265| 40.53371351895337|\n",
      "|   BadgerysCreek|11.136899862825791|24.023111111111124|2.2079249217935253| 33.60989010989011|\n",
      "|        Ballarat| 7.355302279484644|18.274793524942158| 1.688829963539929|44.978695073235684|\n",
      "|         Bendigo|  8.59106495219255|21.616683151994728|1.6214521452145108|38.849283094364786|\n",
      "|        Brisbane| 16.41099841521393| 26.44152676591707|3.1605363984674373| 28.21137952956135|\n",
      "|          Cairns|21.199196518245742|29.544344042837974| 5.765317139001365| 38.06799057556378|\n",
      "|        Canberra| 6.827688250805757|20.980644216691047|1.7350382128159827|  40.0821740537043|\n",
      "|           Cobar| 13.12034182305631| 25.83408101774354|1.1292617449664417|36.728813559322035|\n",
      "|    CoffsHarbour|14.365774313791945|23.915575161180858|  5.05459183673471| 39.23219696969697|\n",
      "|        Dartmoor| 8.619816138917264|19.694427454977948| 2.148553929908119| 38.89690370874447|\n",
      "|          Darwin|23.210529614540917| 32.54097744360893| 5.094047619047625| 40.58235480799746|\n",
      "|       GoldCoast| 17.34149043303128|25.752970795568952|3.7289329685362627|42.472538860103626|\n",
      "|          Hobart| 9.079140526976161|17.866677125823653| 1.604272698711901| 47.53139791732408|\n",
      "|       Katherine| 20.53498349834985| 34.93903708523091|3.1355987055016175|  38.7583278902678|\n",
      "|      Launceston| 7.833818181818179|18.956231404958686|2.0122185430463535| 35.63087695898633|\n",
      "|       Melbourne|11.788126540673797| 20.86014790468364|1.8377719756309814| 45.42544403139199|\n",
      "|MelbourneAirport| 9.973944832170167|20.491857760053122|1.4519774011299402| 46.91917167668671|\n",
      "|         Mildura|  10.7339541070835| 24.84153641503151|0.9450249584026625| 37.17082917082917|\n",
      "|           Moree|12.786255259467062| 26.88686054660126|1.6032963095664614| 39.79942487419123|\n",
      "|    MountGambier| 8.827467811158806| 19.82812809508089|2.0873593646591515| 42.86909943086709|\n",
      "|     MountGinini|3.6511929824561404|11.777946768060843|3.2452414772727214| 46.18821362799263|\n",
      "|       Newcastle|13.740239790183637|24.098282647584846| 3.153021509047461|              null|\n",
      "|            Nhil| 8.992797960484381|22.398406628425754|0.9329073482428145|42.542437779195915|\n",
      "|       NorahHead|15.375196985268934|22.607900136798932| 3.382479224376734|42.215042735042736|\n",
      "|   NorfolkIsland|16.839959500506236| 21.79274628879893| 3.137567934782603| 42.63997262149213|\n",
      "|       Nuriootpa|  9.36643263122702|21.714657762938188|1.3813751668891827|40.660720296196565|\n",
      "|      PearceRAAF|12.386313868613142|26.271048798252004|1.6343537414965963| 43.44854881266491|\n",
      "|         Penrith|12.533649289099511| 24.73198380566811|2.1351425626932192| 31.79438620223199|\n",
      "|           Perth|12.922705919198231|25.034837092731838|1.9062950203570268|34.882998745294856|\n",
      "|    PerthAirport|  12.5803589232303| 25.53323363243602|1.7616483881688256| 44.20182247721903|\n",
      "|        Portland| 9.585537328423172|18.055626043405685| 2.531032171581759|42.058882907133246|\n",
      "|        Richmond|11.346070091868002|24.449813242784405|2.1525808671713578| 34.86035422343324|\n",
      "|            Sale| 8.561220406802276|20.271023674558162|1.5126671122994568| 42.47452896022331|\n",
      "|      SalmonGums| 9.302578018995934| 24.24920365977637| 1.032301938116285|39.761086283946376|\n",
      "|          Sydney|14.865056988602275|23.002338830584726|3.3302311618132627|41.761408083441985|\n",
      "|   SydneyAirport|14.894041278295612| 23.37890183028289| 2.995334888370546|47.222071767095464|\n",
      "|      Townsville|20.411250412405153|29.362973953181562|3.4886025768087214| 38.80405181002989|\n",
      "|     Tuggeranong| 7.245612278945606|20.777444110777438|2.1590402162892834| 35.18961474036851|\n",
      "|           Uluru|14.406982872200256|30.387442472057817|0.7073235685752333| 41.36923076923077|\n",
      "|      WaggaWagga| 9.562029569892472| 22.96129032258059|1.7060851926977643|36.566146540027134|\n",
      "|         Walpole|11.915710723192051|20.566820768136616|2.8773285198555856| 39.75305096913137|\n",
      "|        Watsonia|10.126227865018391|20.883527842614196| 1.847692307692302|38.057296932928885|\n",
      "|     Williamtown|12.820376175548573|24.147019607843177|3.5109848484848385| 41.75369458128079|\n",
      "|     Witchcliffe|10.756861413043486| 21.69942314217853|2.8996580027359733|39.980258679373726|\n",
      "|      Wollongong|  14.9490578734859| 21.47651006711409|3.5891267414203223| 45.69525731584258|\n",
      "|         Woomera| 13.31389819156064| 26.54213520749662|0.4899463806970519|44.080962059620596|\n",
      "+----------------+------------------+------------------+------------------+------------------+\n",
      "\n"
     ]
    },
    {
     "data": {
      "text/plain": [
       "winp1: org.apache.spark.sql.expressions.WindowSpec = org.apache.spark.sql.expressions.WindowSpec@1d388b0\n",
       "winp2: org.apache.spark.sql.expressions.WindowSpec = org.apache.spark.sql.expressions.WindowSpec@4efc88e5\n",
       "aggDF: Unit = ()\n"
      ]
     },
     "execution_count": 15,
     "metadata": {},
     "output_type": "execute_result"
    }
   ],
   "source": [
    "// Partition the data to get by location & Date\n",
    "\n",
    "val winp1 = Window.partitionBy(\"Location\").orderBy(col(\"Date\"))\n",
    "    weather_org_df.withColumn(\"row\",row_number.over(winp1))\n",
    "      .where($\"row\" === 1).drop(\"row\")\n",
    "\n",
    "val winp2 = Window.partitionBy(\"Location\")\n",
    "    val aggDF = weather_org_df.withColumn(\"row\",row_number.over(winp1))\n",
    "    .withColumn(\"MinTempavg\", avg(col(\"MinTemp\")).over(winp2))\n",
    "    .withColumn(\"MaxTempavg\", avg(col(\"MaxTemp\")).over(winp2))\n",
    "    .withColumn(\"Rfavg\", avg(col(\"Rainfall\")).over(winp2))\n",
    "    .withColumn(\"Rfavg\", avg(col(\"Rainfall\")).over(winp2))\n",
    "    .withColumn(\"WindGSavg\", avg(col(\"WindGustSpeed\")).over(winp2))\n",
    "    \n",
    "      .where(col(\"row\")===1).select(\"Location\",\"MinTempavg\",\"MaxTempavg\",\"Rfavg\",\"WindGSavg\")\n",
    "      .orderBy(\"Location\").show(49)  // show all Weather station locations\n",
    "   "
   ]
  },
  {
   "cell_type": "markdown",
   "metadata": {},
   "source": [
    "<b>As expected, We can see that there is a wide difference in the Weather conditions across , for example In Tuggeranog station the Average Min Tem is 7.24 but the average in Darwin is 23.2 </b>"
   ]
  },
  {
   "cell_type": "markdown",
   "metadata": {},
   "source": [
    "2.5 Check the Null / NA columns acorss the data Range to decide on the data wrangling requirement "
   ]
  },
  {
   "cell_type": "code",
   "execution_count": 16,
   "metadata": {},
   "outputs": [
    {
     "name": "stdout",
     "output_type": "stream",
     "text": [
      "+----+--------+-------+-------+--------+-----------+--------+-----------+-------------+----------+----------+------------+------------+-----------+-----------+-----------+-----------+--------+--------+-------+-------+---------+-------+------------+\n",
      "|Date|Location|MinTemp|MaxTemp|Rainfall|Evaporation|Sunshine|WindGustDir|WindGustSpeed|WindDir9am|WindDir3pm|WindSpeed9am|WindSpeed3pm|Humidity9am|Humidity3pm|Pressure9am|Pressure3pm|Cloud9am|Cloud3pm|Temp9am|Temp3pm|RainToday|RISK_MM|RainTomorrow|\n",
      "+----+--------+-------+-------+--------+-----------+--------+-----------+-------------+----------+----------+------------+------------+-----------+-----------+-----------+-----------+--------+--------+-------+-------+---------+-------+------------+\n",
      "|   0|       0|    637|    322|    1406|      60843|   67816|          0|         9270|         0|         0|        1348|        2630|       1774|       3610|      14014|      13981|   53657|   57094|    904|   2726|        0|      0|           0|\n",
      "+----+--------+-------+-------+--------+-----------+--------+-----------+-------------+----------+----------+------------+------------+-----------+-----------+-----------+-----------+--------+--------+-------+-------+---------+-------+------------+\n",
      "\n"
     ]
    }
   ],
   "source": [
    "// Checking null Values across all acolumns at once !!! \n",
    "\n",
    "weather_org_df_cast.select(weather_org_df_cast.columns.map(colName => {\n",
    "    count(when(col(colName).isNull, true) || when(col(colName)===\"\", true)) as s\"${colName}\"\n",
    "  }): _*)\n",
    "  .show()"
   ]
  },
  {
   "cell_type": "markdown",
   "metadata": {},
   "source": [
    "<b>There is significantly large missing data in Evaporation , Sunshine and Cloud Data set . In the next feature during the Feature selection for modeling we need to make note of this.</b>"
   ]
  },
  {
   "cell_type": "markdown",
   "metadata": {},
   "source": [
    "<H1>3) Data Analysis using visulaisation   </H1>"
   ]
  },
  {
   "cell_type": "markdown",
   "metadata": {},
   "source": [
    "Our team decided to use Python for this purpose . A separate Python files has been attached and screen shots of those are attached to the Report"
   ]
  },
  {
   "cell_type": "markdown",
   "metadata": {},
   "source": [
    "<H1>4) Data Wrangling  </H1>"
   ]
  },
  {
   "cell_type": "raw",
   "metadata": {},
   "source": [
    "4.1 Remove Duplicates - Location for the given Date uniquely identify the records . Hence lets use that \n"
   ]
  },
  {
   "cell_type": "code",
   "execution_count": 19,
   "metadata": {},
   "outputs": [
    {
     "data": {
      "text/plain": [
       "weather_org_df_W1: org.apache.spark.sql.Dataset[org.apache.spark.sql.Row] = [Date: date, Location: string ... 22 more fields]\n",
       "res11: Long = 142193\n"
      ]
     },
     "execution_count": 19,
     "metadata": {},
     "output_type": "execute_result"
    }
   ],
   "source": [
    "// Remove duplicates based on Date and Location\n",
    "\n",
    "val weather_org_df_W1 =  weather_org_df_cast.distinct()\n",
    "weather_org_df_W1.count()\n"
   ]
  },
  {
   "cell_type": "code",
   "execution_count": 20,
   "metadata": {},
   "outputs": [
    {
     "data": {
      "text/plain": [
       "weather_org_df_W2: org.apache.spark.sql.Dataset[org.apache.spark.sql.Row] = [Date: date, Location: string ... 22 more fields]\n",
       "res12: Long = 142193\n"
      ]
     },
     "execution_count": 20,
     "metadata": {},
     "output_type": "execute_result"
    }
   ],
   "source": [
    "val weather_org_df_W2 =  weather_org_df_cast.dropDuplicates(Seq(\"Date\", \"Location\"))\n",
    "weather_org_df_W2.count()"
   ]
  },
  {
   "cell_type": "markdown",
   "metadata": {},
   "source": [
    "4.2  Convert blank columns into uniform notation so that imputation can be applied as uniform. As the data set is a time series data , imputing value will value can be  based \n",
    "\n",
    "    a) Regression\n",
    "    b) Nearest Data set approach\n",
    "    c) Splines (using MARS technique)\n",
    "    d) Simplying imputing avaerage of that column (This wil not be correct as the weather data is wide spread across States)\n",
    "    \n",
    "    We have follwed nearest data apprach as it is one of the most suited \n",
    "\n"
   ]
  },
  {
   "cell_type": "code",
   "execution_count": 110,
   "metadata": {},
   "outputs": [
    {
     "data": {
      "text/plain": [
       "weather_org_df_W2_impute: org.apache.spark.sql.DataFrame = [Date: date, Location: string ... 22 more fields]\n"
      ]
     },
     "execution_count": 110,
     "metadata": {},
     "output_type": "execute_result"
    }
   ],
   "source": [
    "val weather_org_df_W2_impute= weather_org_df_cast.withColumn(\"MinTemp\",when(col(\"MinTemp\").isNull,lead(\"MinTemp\",1).over(winp1)).otherwise(col(\"MinTemp\")))\n",
    "                              .withColumn(\"MaxTemp\",when(col(\"MaxTemp\").isNull,lead(\"MaxTemp\",1).over(winp1)).otherwise(col(\"MaxTemp\")))\n",
    "                             .withColumn(\"Temp9am\",when(col(\"Temp9am\").isNull,lead(\"Temp9am\",1).over(winp1)).otherwise(col(\"Temp9am\")))\n",
    "                             .withColumn(\"Temp3pm\",when(col(\"Temp3pm\").isNull,lead(\"Temp3pm\",1).over(winp1)).otherwise(col(\"Temp3pm\")))\n",
    "                              .withColumn(\"Cloud9am\",when(col(\"Cloud9am\").isNull,lead(\"Cloud9am\",1).over(winp1)).otherwise(col(\"Cloud9am\")))\n",
    "                            .withColumn(\"Cloud3pm\",when(col(\"Cloud3pm\").isNull,lead(\"Cloud3pm\",1).over(winp1)).otherwise(col(\"Cloud3pm\")))\n",
    "                            .withColumn(\"Cloud3pm\",when(col(\"Cloud3pm\").isNull,lead(\"Cloud3pm\",1).over(winp1)).otherwise(col(\"Cloud3pm\")))\n",
    "                            .withColumn(\"Humidity9am\",when(col(\"Humidity9am\").isNull,lead(\"Humidity9am\",1).over(winp1)).otherwise(col(\"Humidity9am\")))\n",
    "                            .withColumn(\"Humidity3pm\",when(col(\"Humidity3pm\").isNull,lead(\"Humidity3pm\",1).over(winp1)).otherwise(col(\"Humidity3pm\")))\n",
    "                            .withColumn(\"Pressure9am\",when(col(\"Pressure9am\").isNull,lead(\"Pressure9am\",1).over(winp1)).otherwise(col(\"Pressure9am\")))\n",
    "                             .withColumn(\"Pressure9am\",when(col(\"Pressure9am\").isNull,lead(\"Pressure9am\",1).over(winp1)).otherwise(col(\"Pressure9am\")))\n",
    "                            .withColumn(\"Pressure3pm\",when(col(\"Pressure3pm\").isNull,lead(\"Pressure3pm\",1).over(winp1)).otherwise(col(\"Pressure3pm\")))\n",
    "                             .withColumn(\"WindGustSpeed\",when(col(\"WindGustSpeed\").isNull,lead(\"WindGustSpeed\",1).over(winp1)).otherwise(col(\"WindGustSpeed\")))\n",
    "                            .withColumn(\"WindSpeed9am\",when(col(\"WindSpeed9am\").isNull,lead(\"WindSpeed9am\",1).over(winp1)).otherwise(col(\"WindSpeed9am\")))\n",
    "                             .withColumn(\"WindSpeed3pm\",when(col(\"WindSpeed3pm\").isNull,lead(\"WindSpeed3pm\",1).over(winp1)).otherwise(col(\"WindSpeed3pm\")))\n",
    "                             .withColumn(\"Rainfall\",when(col(\"Rainfall\").isNull,lead(\"Rainfall\",1).over(winp1)).otherwise(col(\"Rainfall\")))\n",
    "                             .withColumn(\"Evaporation\",when(col(\"Evaporation\").isNull,lead(\"Evaporation\",1).over(winp1)).otherwise(col(\"Evaporation\")))\n",
    "                             .withColumn(\"Sunshine\",when(col(\"Sunshine\").isNull,lead(\"Sunshine\",1).over(winp1)).otherwise(col(\"Sunshine\")))"
   ]
  },
  {
   "cell_type": "code",
   "execution_count": 111,
   "metadata": {},
   "outputs": [],
   "source": [
    "weather_org_df_W2_impute.createOrReplaceTempView(\"Aus_Rain_Data1\")  // Create table for easy manipulations"
   ]
  },
  {
   "cell_type": "markdown",
   "metadata": {},
   "source": [
    "Test Imputation "
   ]
  },
  {
   "cell_type": "code",
   "execution_count": 113,
   "metadata": {},
   "outputs": [
    {
     "name": "stdout",
     "output_type": "stream",
     "text": [
      "+--------+\n",
      "|count(1)|\n",
      "+--------+\n",
      "|     164|\n",
      "+--------+\n",
      "\n",
      "+--------+\n",
      "|count(1)|\n",
      "+--------+\n",
      "|     637|\n",
      "+--------+\n",
      "\n"
     ]
    }
   ],
   "source": [
    "spark.sql(\"select COUNT(*) from Aus_Rain_Data1 where MinTemp IS NULL \").show()\n",
    "spark.sql(\"select COUNT(*) from Aus_Rain_Data where MinTemp IS NULL \").show()"
   ]
  },
  {
   "cell_type": "markdown",
   "metadata": {},
   "source": [
    "Manage to remove null values for most of the columns . But it looks like null values exisit next to each others. We will handle this if necessary during the modeling"
   ]
  },
  {
   "cell_type": "markdown",
   "metadata": {},
   "source": [
    "4.3  Removing Data set out side of the expected range ( Excluding Outliers)"
   ]
  },
  {
   "cell_type": "code",
   "execution_count": 114,
   "metadata": {},
   "outputs": [
    {
     "data": {
      "text/plain": [
       "weather_org_df_W2_impute_R: org.apache.spark.sql.DataFrame = [Date: date, Location: string ... 22 more fields]\n"
      ]
     },
     "execution_count": 114,
     "metadata": {},
     "output_type": "execute_result"
    }
   ],
   "source": [
    "val weather_org_df_W2_impute_R = weather_org_df_W2_impute.withColumn(\"MinTemp\",when(col(\"MinTemp\")<(-10),null).otherwise(col(\"MinTemp\")))\n",
    "            .withColumn(\"MinTemp\",when(col(\"MinTemp\")>(50),null).otherwise(col(\"MinTemp\")))\n",
    "            .withColumn(\"MaxTemp\",when(col(\"MaxTemp\")<(-10),null).otherwise(col(\"MaxTemp\")))\n",
    "            .withColumn(\"MaxTemp\",when(col(\"MaxTemp\")>(50),null).otherwise(col(\"MaxTemp\")))\n",
    "            .withColumn(\"Temp9am\",when(col(\"Temp9am\")<(-10),null).otherwise(col(\"Temp9am\")))\n",
    "            .withColumn(\"Temp9am\",when(col(\"Temp9am\")>(50),null).otherwise(col(\"Temp9am\")))\n",
    "            .withColumn(\"Temp3pm\",when(col(\"Temp3pm\")<(-10),null).otherwise(col(\"Temp3pm\")))\n",
    "            .withColumn(\"Temp3pm\",when(col(\"Temp3pm\")>(50),null).otherwise(col(\"Temp3pm\")))\n",
    "            .withColumn(\"Cloud9am\",when(col(\"Cloud9am\")<(0),null).otherwise(col(\"Cloud9am\")))\n",
    "            .withColumn(\"Cloud9am\",when(col(\"Cloud9am\")>(9),null).otherwise(col(\"Cloud9am\")))\n",
    "            .withColumn(\"Cloud3pm\",when(col(\"Cloud3pm\")<(0),null).otherwise(col(\"Cloud3pm\")))\n",
    "            .withColumn(\"Cloud3pm\",when(col(\"Cloud3pm\")>(9),null).otherwise(col(\"Cloud3pm\")))\n",
    "            .withColumn(\"Humidity9am\",when(col(\"Humidity9am\")<(0),null).otherwise(col(\"Humidity9am\")))\n",
    "            .withColumn(\"Humidity9am\",when(col(\"Humidity9am\")>(100),null).otherwise(col(\"Humidity9am\")))\n",
    "            .withColumn(\"Humidity3pm\",when(col(\"Humidity3pm\")<(0),null).otherwise(col(\"Humidity3pm\")))\n",
    "            .withColumn(\"Humidity3pm\",when(col(\"Humidity3pm\")>(100),null).otherwise(col(\"Humidity3pm\")))\n",
    "            .withColumn(\"Pressure9am\",when(col(\"Pressure9am\")<(970),null).otherwise(col(\"Pressure9am\")))\n",
    "            .withColumn(\"Pressure9am\",when(col(\"Pressure9am\")>(1050),null).otherwise(col(\"Pressure9am\")))\n",
    "            .withColumn(\"Pressure3pm\",when(col(\"Pressure3pm\")<(970),null).otherwise(col(\"Pressure3pm\")))\n",
    "            .withColumn(\"Pressure3pm\",when(col(\"Pressure3pm\")>(1050),null).otherwise(col(\"Pressure3pm\")))\n",
    "            .withColumn(\"WindGustSpeed\",when(col(\"WindGustSpeed\")<(0),null).otherwise(col(\"WindGustSpeed\")))\n",
    "            .withColumn(\"WindGustSpeed\",when(col(\"WindGustSpeed\")>(150),null).otherwise(col(\"WindGustSpeed\")))\n",
    "            .withColumn(\"WindSpeed9am\",when(col(\"WindSpeed9am\")<(0),null).otherwise(col(\"WindSpeed9am\")))\n",
    "            .withColumn(\"WindSpeed9am\",when(col(\"WindSpeed9am\")>(150),null).otherwise(col(\"WindSpeed9am\")))\n",
    "            .withColumn(\"WindSpeed3pm\",when(col(\"WindSpeed3pm\")<(0),null).otherwise(col(\"WindSpeed3pm\")))\n",
    "            .withColumn(\"WindSpeed3pm\",when(col(\"WindSpeed3pm\")>(150),null).otherwise(col(\"WindSpeed3pm\")))\n",
    "            .withColumn(\"Rainfall\",when(col(\"Rainfall\")<(0),null).otherwise(col(\"Rainfall\")))\n",
    "            .withColumn(\"Rainfall\",when(col(\"Rainfall\")>(500),null).otherwise(col(\"Rainfall\")))\n",
    "            .withColumn(\"Evaporation\",when(col(\"Evaporation\")<(0),null).otherwise(col(\"Evaporation\")))\n",
    "            .withColumn(\"Evaporation\",when(col(\"Evaporation\")>(100),null).otherwise(col(\"Evaporation\")))\n",
    "            .withColumn(\"Sunshine\",when(col(\"Sunshine\")<(0),null).otherwise(col(\"Sunshine\")))\n",
    "            .withColumn(\"Sunshine\",when(col(\"Sunshine\")>(15),null).otherwise(col(\"Sunshine\")))"
   ]
  },
  {
   "cell_type": "markdown",
   "metadata": {},
   "source": [
    "4.4 Extracting the month and day from the ‘Date’ field, and creating new columns for them. This would be used later during modeling"
   ]
  },
  {
   "cell_type": "code",
   "execution_count": 115,
   "metadata": {},
   "outputs": [
    {
     "data": {
      "text/plain": [
       "weather_org_df_W2_impute_RM: org.apache.spark.sql.DataFrame = [Date: date, Location: string ... 23 more fields]\n"
      ]
     },
     "execution_count": 115,
     "metadata": {},
     "output_type": "execute_result"
    }
   ],
   "source": [
    "// Extract the month from the \"Date\" column and insert it as a new column\n",
    "\n",
    "val weather_org_df_W2_impute_RM = weather_org_df_W2_impute_R.withColumn(\"Month\",month(col(\"Date\")))"
   ]
  },
  {
   "cell_type": "code",
   "execution_count": 116,
   "metadata": {},
   "outputs": [
    {
     "name": "stdout",
     "output_type": "stream",
     "text": [
      "root\n",
      " |-- Date: date (nullable = true)\n",
      " |-- Location: string (nullable = true)\n",
      " |-- MinTemp: double (nullable = true)\n",
      " |-- MaxTemp: double (nullable = true)\n",
      " |-- Rainfall: double (nullable = true)\n",
      " |-- Evaporation: double (nullable = true)\n",
      " |-- Sunshine: double (nullable = true)\n",
      " |-- WindGustDir: string (nullable = true)\n",
      " |-- WindGustSpeed: double (nullable = true)\n",
      " |-- WindDir9am: string (nullable = true)\n",
      " |-- WindDir3pm: string (nullable = true)\n",
      " |-- WindSpeed9am: double (nullable = true)\n",
      " |-- WindSpeed3pm: double (nullable = true)\n",
      " |-- Humidity9am: double (nullable = true)\n",
      " |-- Humidity3pm: double (nullable = true)\n",
      " |-- Pressure9am: double (nullable = true)\n",
      " |-- Pressure3pm: double (nullable = true)\n",
      " |-- Cloud9am: double (nullable = true)\n",
      " |-- Cloud3pm: double (nullable = true)\n",
      " |-- Temp9am: double (nullable = true)\n",
      " |-- Temp3pm: double (nullable = true)\n",
      " |-- RainToday: string (nullable = true)\n",
      " |-- RISK_MM: double (nullable = true)\n",
      " |-- RainTomorrow: string (nullable = true)\n",
      " |-- Month: integer (nullable = true)\n",
      "\n"
     ]
    }
   ],
   "source": [
    "weather_org_df_W2_impute_RM.printSchema()"
   ]
  },
  {
   "cell_type": "markdown",
   "metadata": {},
   "source": [
    "4.5 Scaling of the following columns in order to get correct results in Modeling \n",
    "\n"
   ]
  },
  {
   "cell_type": "markdown",
   "metadata": {},
   "source": [
    "4.5  Final out put cleaned file  - Save file"
   ]
  },
  {
   "cell_type": "code",
   "execution_count": 118,
   "metadata": {},
   "outputs": [],
   "source": [
    "// Multiple Partition\n",
    "weather_org_df_W2_impute_RM.write.format(\"csv\").save(\"Weather_Cleaned_data.csv\")"
   ]
  },
  {
   "cell_type": "code",
   "execution_count": 121,
   "metadata": {},
   "outputs": [],
   "source": [
    "// Saving into Single partition\n",
    "weather_org_df_W2_impute_RM.repartition(1).write.format(\"com.databricks.spark.csv\").option(\"header\", \"true\").save(\"weather_clean_dat.csv\")"
   ]
  },
  {
   "cell_type": "code",
   "execution_count": null,
   "metadata": {},
   "outputs": [],
   "source": []
  }
 ],
 "metadata": {
  "kernelspec": {
   "display_name": "spylon-kernel",
   "language": "scala",
   "name": "spylon-kernel"
  },
  "language_info": {
   "codemirror_mode": "text/x-scala",
   "file_extension": ".scala",
   "help_links": [
    {
     "text": "MetaKernel Magics",
     "url": "https://metakernel.readthedocs.io/en/latest/source/README.html"
    }
   ],
   "mimetype": "text/x-scala",
   "name": "scala",
   "pygments_lexer": "scala",
   "version": "0.4.1"
  }
 },
 "nbformat": 4,
 "nbformat_minor": 4
}
