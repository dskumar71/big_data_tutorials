{
 "cells": [
  {
   "cell_type": "code",
   "execution_count": null,
   "metadata": {},
   "outputs": [],
   "source": [
    "// Set log level to ERROR (less verbose)\n",
    "sc.setLogLevel(\"ERROR\")\n",
    "// Import libs\n",
    "import org.apache.spark.ml.{Pipeline, PipelineModel}\n",
    "import org.apache.spark.ml.classification.LogisticRegression\n",
    "import org.apache.spark.ml.feature.{HashingTF, Tokenizer}\n",
    "import org.apache.spark.ml.linalg.Vector\n",
    "import org.apache.spark.sql.Row\n",
    "import scala.util.hashing.MurmurHash3"
   ]
  },
  {
   "cell_type": "code",
   "execution_count": null,
   "metadata": {
    "scrolled": true
   },
   "outputs": [],
   "source": [
    "import org.apache.spark.sql.SparkSession //creates Spark Session\n",
    "\n",
    "val spark = SparkSession\n",
    "  .builder()\n",
    "  .appName(\"Spark Session\")\n",
    "  .getOrCreate()\n",
    "\n",
    "\n",
    "val df = spark.read.format(\"csv\")\n",
    "  .option(\"sep\", \",\")\n",
    "  .option(\"inferSchema\", \"true\")\n",
    "  .option(\"header\", \"true\")\n",
    "  .load(\"wrangle_final_for_yury.txt\")\n",
    "\n",
    "\n",
    "df.show()"
   ]
  },
  {
   "cell_type": "code",
   "execution_count": null,
   "metadata": {},
   "outputs": [],
   "source": [
    " val datarset = df.select(\"RainTomorrow\", \"Location\", \"MinTemp\",\"MaxTemp\",\"Rainfall\",\"Evaporation\",\"Sunshine\",\"Humidity9am\",\"Temp9am\"\n",
    "                          )\n",
    "\n",
    "datarset.show()\n"
   ]
  },
  {
   "cell_type": "code",
   "execution_count": null,
   "metadata": {},
   "outputs": [],
   "source": [
    "import org.apache.spark.sql.functions._\n",
    "val dataset2 = datarset.withColumn(\"RainTomorrow\", when(col(\"RainTomorrow\") === \"Yes\", \"1\")\n",
    "                                   //.otherwise(col(\"RainTomorrow\"))\n",
    "                                   .otherwise(\"0\")\n",
    "                           );\n",
    "\n",
    "dataset2.show()"
   ]
  },
  {
   "cell_type": "code",
   "execution_count": null,
   "metadata": {},
   "outputs": [],
   "source": [
    "//Tokenizer for location\n",
    "//update hashing and get rid of tokenizer\n",
    "\n",
    "\n",
    "val tokenizer = new Tokenizer()\n",
    "  .setInputCol(\"Location\")\n",
    "  .setOutputCol(\"locfeatres\")\n",
    "\n",
    "val hashingTF = new HashingTF()\n",
    "  .setNumFeatures(20)\n",
    "  .setInputCol(tokenizer.getOutputCol)\n",
    "  .setOutputCol(\"locationfeatures\")\n",
    "\n",
    "// Let's see the TF outputs\n",
    "val hash01 = hashingTF.transform(tokenizer.transform(dataset2))\n",
    " // hash01.show()\n",
    "\n",
    " val featuresdf = hash01.select(\"RainTomorrow\", \"locationfeatures\", \"MinTemp\",\"MaxTemp\",\"Rainfall\",\"Evaporation\",\"Sunshine\",\"Humidity9am\",\"Temp9am\")\n",
    "featuresdf.show()"
   ]
  },
  {
   "cell_type": "code",
   "execution_count": 6,
   "metadata": {},
   "outputs": [],
   "source": [
    "//"
   ]
  },
  {
   "cell_type": "code",
   "execution_count": null,
   "metadata": {},
   "outputs": [],
   "source": [
    "import org.apache.spark.ml.feature.VectorAssembler\n",
    "import org.apache.spark.ml.linalg.Vectors\n",
    "import org.apache.spark.sql\n",
    "import org.apache.spark.sql.{DataFrame, SQLContext}\n",
    "import org.apache.spark.{SparkConf, SparkContext}\n",
    "\n",
    "\n",
    "//  .setInputCols(Array(\"locationfeatures\", \"MinTemp\",\"MaxTemp\",\"Rainfall\",\"Evaporation\",\"Sunshine\",\"Humidity9am\",\"Temp9am\"))\n",
    "\n",
    "featuresdf.withColumn(\"MaxTemp\", $\"MaxTemp\".cast(\"float\"))\n",
    "featuresdf.withColumn(\"Rainfall\", $\"Rainfall\".cast(\"float\"))\n",
    "featuresdf.withColumn(\"Evaporation\", $\"Evaporation\".cast(\"float\"))\n",
    "featuresdf.withColumn(\"Sunshine\", $\"Sunshine\".cast(\"float\"))\n",
    "featuresdf.withColumn(\"Humidity9am\", $\"Humidity9am\".cast(\"float\"))\n",
    "featuresdf.withColumn(\"Temp9am\", $\"Temp9am\".cast(\"float\"))\n",
    "\n",
    "\n",
    "//val output3 = output2.withColumn(\"label\", $\"label\".cast(sql.types.IntegerType))\n",
    "\n",
    "\n",
    "val assembler = new VectorAssembler()\n",
    "  .setInputCols(Array(\"MinTemp\",\"MaxTemp\",\"Rainfall\",\"Evaporation\",\"Sunshine\",\"Humidity9am\",\"Temp9am\"))\n",
    "  .setOutputCol(\"features\")\n",
    "  .setHandleInvalid(\"skip\")\n",
    "\n",
    "val output = assembler.transform(featuresdf)\n",
    "//println(\"Assembled columns 'hour', 'mobile', 'userFeatures' to vector column 'features'\")\n",
    "output.select(\"features\", \"RainTomorrow\").show(false)\n",
    "\n",
    "val output2 = output.withColumnRenamed(\"RainTomorrow\",\"label\")\n",
    "\n",
    "output2.select(\"features\", \"label\").show(false)\n",
    "\n",
    "val output3 = output2.withColumn(\"label\", $\"label\".cast(\"float\"))"
   ]
  },
  {
   "cell_type": "code",
   "execution_count": null,
   "metadata": {},
   "outputs": [],
   "source": [
    "val lr = new LogisticRegression()\n",
    "  .setMaxIter(10)\n",
    "  .setRegParam(0.001)\n",
    "lr"
   ]
  },
  {
   "cell_type": "code",
   "execution_count": null,
   "metadata": {},
   "outputs": [],
   "source": []
  },
  {
   "cell_type": "code",
   "execution_count": null,
   "metadata": {},
   "outputs": [],
   "source": [
    "//split to test and training\n",
    "\n",
    "val splits: Array[org.apache.spark.sql.Dataset[org.apache.spark.sql.Row]] = output3.randomSplit(Array(0.75, 0.25), 98765L)//create two vals to hold TrainingData and TestingData respectivelyval trainDataFrame = splitDataSet(0)val testDataFrame = splitDataSet(1)\n",
    "\n",
    "//val splits = output.randomSplit(Array(0.7, 0.3))\n",
    "val (trainingData, testData) = (splits(1), splits(0))\n",
    "\n"
   ]
  },
  {
   "cell_type": "code",
   "execution_count": null,
   "metadata": {},
   "outputs": [],
   "source": [
    "val pipeline = new Pipeline()\n",
    "  .setStages(Array(lr))\n"
   ]
  },
  {
   "cell_type": "code",
   "execution_count": null,
   "metadata": {
    "scrolled": false
   },
   "outputs": [],
   "source": [
    "// Fit the pipeline to training documents.\n",
    "val model = pipeline.fit(trainingData)"
   ]
  },
  {
   "cell_type": "code",
   "execution_count": null,
   "metadata": {},
   "outputs": [],
   "source": [
    "// Now we can optionally save the fitted pipeline to disk\n",
    "model.write\n",
    "  .overwrite()\n",
    "  .save(\"/tmp/spark-logistic-regression-model\")"
   ]
  },
  {
   "cell_type": "code",
   "execution_count": null,
   "metadata": {},
   "outputs": [],
   "source": [
    "// And load it back in during production\n",
    "val sameModel = PipelineModel.load(\"/tmp/spark-logistic-regression-model\")"
   ]
  },
  {
   "cell_type": "code",
   "execution_count": null,
   "metadata": {},
   "outputs": [],
   "source": [
    "// Compare the original model with its copy\n",
    "model.transform(trainingData)\n",
    "  .select( \"probability\", \"features\",\"prediction\", \"label\")\n",
    "  .toDF.show(50)\n",
    "\n",
    "/*\n",
    "sameModel.transform(training)\n",
    "  .select(\"id\", \"text\", \"probability\", \"prediction\", \"label\")\n",
    "  .toDF.show() */"
   ]
  },
  {
   "cell_type": "code",
   "execution_count": null,
   "metadata": {},
   "outputs": [],
   "source": [
    "// Make predictions on test documents.\n",
    "model.transform(testData)\n",
    "  .select(\"probability\", \"features\",\"prediction\", \"label\")\n",
    "  .collect()\n",
    "  .foreach { case Row(label: Float, features: Array, prob: Vector, pred: Double) =>\n",
    "    println(s\"($label, $features)\\t --> prob=$prob\\t prediction=$pred\")\n",
    "  } "
   ]
  },
  {
   "cell_type": "code",
   "execution_count": null,
   "metadata": {},
   "outputs": [],
   "source": [
    "//Create LibSVM\n",
    "import org.apache.spark.mllib.util.MLUtils\n",
    "\n",
    "output3.coalesce(1)\n",
    "  .write.format(\"com.databricks.spark.csv\")\n",
    "  .option(\"header\", \"true\")\n",
    "   .save(\"featurevect.csv\")\n",
    "  \n",
    "val data = MLUtils.loadLibSVMFile(sc, \"featurevect.csv\")"
   ]
  },
  {
   "cell_type": "code",
   "execution_count": null,
   "metadata": {},
   "outputs": [],
   "source": []
  },
  {
   "cell_type": "code",
   "execution_count": null,
   "metadata": {},
   "outputs": [],
   "source": [
    "\n",
    "import org.apache.spark.mllib.tree.RandomForest\n",
    "import org.apache.spark.mllib.tree.model.RandomForestModel\n",
    "\n",
    "\n",
    "// Load and parse the data file.\n",
    "//Weather-aus-cleanup-file \n",
    "//val data = MLUtils.loadLibSVMFile(sc, \"weatherAUS.csv\")\n",
    "// Split the data into training and test sets (30% held out for testing)\n",
    "val splits = data.randomSplit(Array(0.7, 0.3))\n",
    "val (trainingData, testData) = (splits(0), splits(1))\n",
    "\n",
    "// Train a RandomForest model.\n",
    "// Empty categoricalFeaturesInfo indicates all features are continuous.\n",
    "val numClasses = 2\n",
    "val categoricalFeaturesInfo = Map[Int, Int]()\n",
    "val numTrees = 3 // Use more in practice.\n",
    "val featureSubsetStrategy = \"auto\" // Let the algorithm choose.\n",
    "val impurity = \"gini\"\n",
    "val maxDepth = 4\n",
    "val maxBins = 32\n",
    "\n",
    "val model = RandomForest.trainClassifier(trainingData, numClasses, categoricalFeaturesInfo,\n",
    "  numTrees, featureSubsetStrategy, impurity, maxDepth, maxBins)\n",
    "\n",
    "// Evaluate model on test instances and compute test error\n",
    "val labelAndPreds = testData.map { point =>\n",
    "  val prediction = model.predict(point.features)\n",
    "  (point.label, prediction)\n",
    "}\n",
    "val testErr = labelAndPreds.filter(r => r._1 != r._2).count.toDouble / testData.count()\n",
    "println(\"Test Error = \" + testErr)\n",
    "println(\"Learned classification forest model:\\n\" + model.toDebugString)\n",
    "\n",
    "// Save and load model\n",
    "model.save(sc, \"target/tmp/myRandomForestClassificationModel\")\n",
    "val sameModel = RandomForestModel.load(sc, \"myRandomForestClassificationModel\")"
   ]
  },
  {
   "cell_type": "code",
   "execution_count": null,
   "metadata": {},
   "outputs": [],
   "source": []
  }
 ],
 "metadata": {
  "kernelspec": {
   "display_name": "spylon-kernel",
   "language": "scala",
   "name": "spylon-kernel"
  },
  "language_info": {
   "codemirror_mode": "text/x-scala",
   "file_extension": ".scala",
   "help_links": [
    {
     "text": "MetaKernel Magics",
     "url": "https://metakernel.readthedocs.io/en/latest/source/README.html"
    }
   ],
   "mimetype": "text/x-scala",
   "name": "scala",
   "pygments_lexer": "scala",
   "version": "0.4.1"
  }
 },
 "nbformat": 4,
 "nbformat_minor": 4
}
